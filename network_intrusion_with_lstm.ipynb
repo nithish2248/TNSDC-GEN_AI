{
  "nbformat": 4,
  "nbformat_minor": 0,
  "metadata": {
    "kernelspec": {
      "name": "python3",
      "display_name": "Python 3"
    },
    "language_info": {
      "codemirror_mode": {
        "name": "ipython",
        "version": 3
      },
      "file_extension": ".py",
      "mimetype": "text/x-python",
      "name": "python",
      "nbconvert_exporter": "python",
      "pygments_lexer": "ipython3",
      "version": "3.7.6"
    },
    "colab": {
      "name": "network intrusion with lstm.ipynb",
      "provenance": [],
      "machine_shape": "hm"
    }
  },
  "cells": [
    {
      "cell_type": "code",
      "metadata": {
        "id": "qm6jihVNglBp",
        "outputId": "6ee44a3d-0014-4922-b246-102b9e46effc",
        "colab": {
          "base_uri": "https://localhost:8080/",
          "height": 122
        }
      },
      "source": [
        "### run this cell only when using google cloab ###\n",
        "#se mounting google drive\n",
        "from google.colab import drive\n",
        "drive.mount('/content/gdrive')"
      ],
      "execution_count": null,
      "outputs": [
        {
          "output_type": "stream",
          "text": [
            "Go to this URL in a browser: https://accounts.google.com/o/oauth2/auth?client_id=947318989803-6bn6qk8qdgf4n4g3pfee6491hc0brc4i.apps.googleusercontent.com&redirect_uri=urn%3aietf%3awg%3aoauth%3a2.0%3aoob&response_type=code&scope=email%20https%3a%2f%2fwww.googleapis.com%2fauth%2fdocs.test%20https%3a%2f%2fwww.googleapis.com%2fauth%2fdrive%20https%3a%2f%2fwww.googleapis.com%2fauth%2fdrive.photos.readonly%20https%3a%2f%2fwww.googleapis.com%2fauth%2fpeopleapi.readonly\n",
            "\n",
            "Enter your authorization code:\n",
            "··········\n",
            "Mounted at /content/gdrive\n"
          ],
          "name": "stdout"
        }
      ]
    },
    {
      "cell_type": "code",
      "metadata": {
        "id": "wzihIgw7LLrQ",
        "colab": {
          "base_uri": "https://localhost:8080/",
          "height": 34
        },
        "outputId": "d415a16f-eab5-4297-f5f1-84b8f5270f74"
      },
      "source": [
        "!ls"
      ],
      "execution_count": null,
      "outputs": [
        {
          "output_type": "stream",
          "text": [
            "gdrive\tsample_data\n"
          ],
          "name": "stdout"
        }
      ]
    },
    {
      "cell_type": "code",
      "metadata": {
        "id": "KZnSSx8Egbwa"
      },
      "source": [
        "# importing all the necessary packages\n",
        "import tqdm\n",
        "import pandas as pd\n",
        "import numpy as np\n",
        "import tensorflow as tf\n",
        "import matplotlib.pyplot as plt\n",
        "import tensorflow as tf\n",
        "from sklearn.decomposition import PCA\n",
        "from sklearn.model_selection import train_test_split\n",
        "from sklearn.preprocessing import StandardScaler, LabelEncoder, MinMaxScaler, OneHotEncoder\n",
        "from mpl_toolkits import mplot3d\n",
        "from tensorflow.keras.layers import Input, Dense, LSTM, TimeDistributed, RepeatVector\n",
        "from tensorflow.keras.models import Sequential\n",
        "from tensorflow.keras.models import Model\n",
        "import tensorflow.keras.backend as K\n",
        "from scipy.spatial.distance import euclidean\n",
        "import random\n",
        "import seaborn as sns\n",
        "from sklearn.metrics import confusion_matrix, roc_auc_score, roc_curve, f1_score, precision_score, recall_score, accuracy_score, plot_confusion_matrix"
      ],
      "execution_count": null,
      "outputs": []
    },
    {
      "cell_type": "code",
      "metadata": {
        "id": "lw1fdo9mgeAy",
        "outputId": "5515a517-0912-4a77-aea7-d63c41a2fac5",
        "colab": {
          "base_uri": "https://localhost:8080/",
          "height": 34
        }
      },
      "source": [
        "# checking if tensorflow version is 2.x\n",
        "tf.__version__"
      ],
      "execution_count": null,
      "outputs": [
        {
          "output_type": "execute_result",
          "data": {
            "text/plain": [
              "'2.2.0-rc2'"
            ]
          },
          "metadata": {
            "tags": []
          },
          "execution_count": 4
        }
      ]
    },
    {
      "cell_type": "code",
      "metadata": {
        "id": "v4uN1qHLjyIo",
        "outputId": "9a39c32a-f9ba-4897-e3d2-5cdf9554ae4f",
        "colab": {
          "base_uri": "https://localhost:8080/",
          "height": 122
        }
      },
      "source": [
        "# checking if gpu is available\n",
        "print(tf.config.list_physical_devices('GPU'))\n",
        "print(tf.test.is_gpu_available())"
      ],
      "execution_count": null,
      "outputs": [
        {
          "output_type": "stream",
          "text": [
            "[PhysicalDevice(name='/physical_device:GPU:0', device_type='GPU')]\n",
            "WARNING:tensorflow:From <ipython-input-3-183ba5a24f66>:2: is_gpu_available (from tensorflow.python.framework.test_util) is deprecated and will be removed in a future version.\n",
            "Instructions for updating:\n",
            "Use `tf.config.list_physical_devices('GPU')` instead.\n",
            "True\n"
          ],
          "name": "stdout"
        }
      ]
    },
    {
      "cell_type": "code",
      "metadata": {
        "id": "9-2pl7IFoAts"
      },
      "source": [
        "# setting paths to import train and test data files.\n",
        "TRAIN_DATA_PATH = 'kdd_train.csv'\n",
        "COLUMN_NAMES_PATH = 'columns_names.txt'\n",
        "TEST_DATA_PATH = 'kdd_test.csv'\n",
        "PROD_DATA_PATH = 'kdd_production.csv'"
      ],
      "execution_count": null,
      "outputs": []
    },
    {
      "cell_type": "code",
      "metadata": {
        "id": "jsjiD2BJgbwe"
      },
      "source": [
        "# reading the training data file\n",
        "df = pd.read_csv(TRAIN_DATA_PATH, header=None)"
      ],
      "execution_count": null,
      "outputs": []
    },
    {
      "cell_type": "code",
      "metadata": {
        "id": "BLNjVk7Jgbwi",
        "outputId": "5f1b7d04-7646-4450-98a7-d5508cbff8c2",
        "colab": {
          "base_uri": "https://localhost:8080/",
          "height": 714
        }
      },
      "source": [
        "# reading the file containing feature names\n",
        "with open(COLUMN_NAMES_PATH, 'r') as txt_file:\n",
        "    col_names = txt_file.readlines()\n",
        "col_names"
      ],
      "execution_count": null,
      "outputs": [
        {
          "output_type": "execute_result",
          "data": {
            "text/plain": [
              "['duration: continuous\\n',\n",
              " 'protocol_type: symbolic\\n',\n",
              " 'service: symbolic\\n',\n",
              " 'flag: symbolic\\n',\n",
              " 'src_bytes: continuous\\n',\n",
              " 'dst_bytes: continuous\\n',\n",
              " 'land: symbolic\\n',\n",
              " 'wrong_fragment: continuous\\n',\n",
              " 'urgent: continuous\\n',\n",
              " 'hot: continuous\\n',\n",
              " 'num_failed_logins: continuous\\n',\n",
              " 'logged_in: symbolic\\n',\n",
              " 'num_compromised: continuous\\n',\n",
              " 'root_shell: continuous\\n',\n",
              " 'su_attempted: continuous\\n',\n",
              " 'num_root: continuous\\n',\n",
              " 'num_file_creations: continuous\\n',\n",
              " 'num_shells: continuous\\n',\n",
              " 'num_access_files: continuous\\n',\n",
              " 'num_outbound_cmds: continuous\\n',\n",
              " 'is_host_login: symbolic\\n',\n",
              " 'is_guest_login: symbolic\\n',\n",
              " 'count: continuous\\n',\n",
              " 'srv_count: continuous\\n',\n",
              " 'serror_rate: continuous\\n',\n",
              " 'srv_serror_rate: continuous\\n',\n",
              " 'rerror_rate: continuous\\n',\n",
              " 'srv_rerror_rate: continuous\\n',\n",
              " 'same_srv_rate: continuous\\n',\n",
              " 'diff_srv_rate: continuous\\n',\n",
              " 'srv_diff_host_rate: continuous\\n',\n",
              " 'dst_host_count: continuous\\n',\n",
              " 'dst_host_srv_count: continuous\\n',\n",
              " 'dst_host_same_srv_rate: continuous\\n',\n",
              " 'dst_host_diff_srv_rate: continuous\\n',\n",
              " 'dst_host_same_src_port_rate: continuous\\n',\n",
              " 'dst_host_srv_diff_host_rate: continuous\\n',\n",
              " 'dst_host_serror_rate: continuous\\n',\n",
              " 'dst_host_srv_serror_rate: continuous\\n',\n",
              " 'dst_host_rerror_rate: continuous\\n',\n",
              " 'dst_host_srv_rerror_rate: continuous']"
            ]
          },
          "metadata": {
            "tags": []
          },
          "execution_count": 42
        }
      ]
    },
    {
      "cell_type": "code",
      "metadata": {
        "id": "ibC6wXuygbwo"
      },
      "source": [
        "col_names_cleaned = [i.split(':')[0] for i in col_names]\n",
        "# adding an extra column for the indicator\n",
        "col_names_cleaned.extend(['result'])\n",
        "# extracting only continous features\n",
        "continous_col_indices = [col.split(':')[0] for i, col in enumerate(col_names) if col.split(':')[1]==' continuous\\n' or col.split(':')[1]==' continuous']"
      ],
      "execution_count": null,
      "outputs": []
    },
    {
      "cell_type": "code",
      "metadata": {
        "id": "KJsVCZp2gbwt",
        "outputId": "b45a7b7e-8b7e-4043-b214-2c6122fa7188",
        "colab": {
          "base_uri": "https://localhost:8080/",
          "height": 224
        }
      },
      "source": [
        "df.columns = col_names_cleaned\n",
        "df.head()"
      ],
      "execution_count": null,
      "outputs": [
        {
          "output_type": "execute_result",
          "data": {
            "text/html": [
              "<div>\n",
              "<style scoped>\n",
              "    .dataframe tbody tr th:only-of-type {\n",
              "        vertical-align: middle;\n",
              "    }\n",
              "\n",
              "    .dataframe tbody tr th {\n",
              "        vertical-align: top;\n",
              "    }\n",
              "\n",
              "    .dataframe thead th {\n",
              "        text-align: right;\n",
              "    }\n",
              "</style>\n",
              "<table border=\"1\" class=\"dataframe\">\n",
              "  <thead>\n",
              "    <tr style=\"text-align: right;\">\n",
              "      <th></th>\n",
              "      <th>duration</th>\n",
              "      <th>protocol_type</th>\n",
              "      <th>service</th>\n",
              "      <th>flag</th>\n",
              "      <th>src_bytes</th>\n",
              "      <th>dst_bytes</th>\n",
              "      <th>land</th>\n",
              "      <th>wrong_fragment</th>\n",
              "      <th>urgent</th>\n",
              "      <th>hot</th>\n",
              "      <th>num_failed_logins</th>\n",
              "      <th>logged_in</th>\n",
              "      <th>num_compromised</th>\n",
              "      <th>root_shell</th>\n",
              "      <th>su_attempted</th>\n",
              "      <th>num_root</th>\n",
              "      <th>num_file_creations</th>\n",
              "      <th>num_shells</th>\n",
              "      <th>num_access_files</th>\n",
              "      <th>num_outbound_cmds</th>\n",
              "      <th>is_host_login</th>\n",
              "      <th>is_guest_login</th>\n",
              "      <th>count</th>\n",
              "      <th>srv_count</th>\n",
              "      <th>serror_rate</th>\n",
              "      <th>srv_serror_rate</th>\n",
              "      <th>rerror_rate</th>\n",
              "      <th>srv_rerror_rate</th>\n",
              "      <th>same_srv_rate</th>\n",
              "      <th>diff_srv_rate</th>\n",
              "      <th>srv_diff_host_rate</th>\n",
              "      <th>dst_host_count</th>\n",
              "      <th>dst_host_srv_count</th>\n",
              "      <th>dst_host_same_srv_rate</th>\n",
              "      <th>dst_host_diff_srv_rate</th>\n",
              "      <th>dst_host_same_src_port_rate</th>\n",
              "      <th>dst_host_srv_diff_host_rate</th>\n",
              "      <th>dst_host_serror_rate</th>\n",
              "      <th>dst_host_srv_serror_rate</th>\n",
              "      <th>dst_host_rerror_rate</th>\n",
              "      <th>dst_host_srv_rerror_rate</th>\n",
              "      <th>result</th>\n",
              "    </tr>\n",
              "  </thead>\n",
              "  <tbody>\n",
              "    <tr>\n",
              "      <th>0</th>\n",
              "      <td>0</td>\n",
              "      <td>tcp</td>\n",
              "      <td>http</td>\n",
              "      <td>SF</td>\n",
              "      <td>215</td>\n",
              "      <td>45076</td>\n",
              "      <td>0</td>\n",
              "      <td>0</td>\n",
              "      <td>0</td>\n",
              "      <td>0</td>\n",
              "      <td>0</td>\n",
              "      <td>1</td>\n",
              "      <td>0</td>\n",
              "      <td>0</td>\n",
              "      <td>0</td>\n",
              "      <td>0</td>\n",
              "      <td>0</td>\n",
              "      <td>0</td>\n",
              "      <td>0</td>\n",
              "      <td>0</td>\n",
              "      <td>0</td>\n",
              "      <td>0</td>\n",
              "      <td>1</td>\n",
              "      <td>1</td>\n",
              "      <td>0.0</td>\n",
              "      <td>0.0</td>\n",
              "      <td>0.0</td>\n",
              "      <td>0.0</td>\n",
              "      <td>1.0</td>\n",
              "      <td>0.0</td>\n",
              "      <td>0.0</td>\n",
              "      <td>0</td>\n",
              "      <td>0</td>\n",
              "      <td>0.0</td>\n",
              "      <td>0.0</td>\n",
              "      <td>0.00</td>\n",
              "      <td>0.0</td>\n",
              "      <td>0.0</td>\n",
              "      <td>0.0</td>\n",
              "      <td>0.0</td>\n",
              "      <td>0.0</td>\n",
              "      <td>normal.</td>\n",
              "    </tr>\n",
              "    <tr>\n",
              "      <th>1</th>\n",
              "      <td>0</td>\n",
              "      <td>tcp</td>\n",
              "      <td>http</td>\n",
              "      <td>SF</td>\n",
              "      <td>162</td>\n",
              "      <td>4528</td>\n",
              "      <td>0</td>\n",
              "      <td>0</td>\n",
              "      <td>0</td>\n",
              "      <td>0</td>\n",
              "      <td>0</td>\n",
              "      <td>1</td>\n",
              "      <td>0</td>\n",
              "      <td>0</td>\n",
              "      <td>0</td>\n",
              "      <td>0</td>\n",
              "      <td>0</td>\n",
              "      <td>0</td>\n",
              "      <td>0</td>\n",
              "      <td>0</td>\n",
              "      <td>0</td>\n",
              "      <td>0</td>\n",
              "      <td>2</td>\n",
              "      <td>2</td>\n",
              "      <td>0.0</td>\n",
              "      <td>0.0</td>\n",
              "      <td>0.0</td>\n",
              "      <td>0.0</td>\n",
              "      <td>1.0</td>\n",
              "      <td>0.0</td>\n",
              "      <td>0.0</td>\n",
              "      <td>1</td>\n",
              "      <td>1</td>\n",
              "      <td>1.0</td>\n",
              "      <td>0.0</td>\n",
              "      <td>1.00</td>\n",
              "      <td>0.0</td>\n",
              "      <td>0.0</td>\n",
              "      <td>0.0</td>\n",
              "      <td>0.0</td>\n",
              "      <td>0.0</td>\n",
              "      <td>normal.</td>\n",
              "    </tr>\n",
              "    <tr>\n",
              "      <th>2</th>\n",
              "      <td>0</td>\n",
              "      <td>tcp</td>\n",
              "      <td>http</td>\n",
              "      <td>SF</td>\n",
              "      <td>236</td>\n",
              "      <td>1228</td>\n",
              "      <td>0</td>\n",
              "      <td>0</td>\n",
              "      <td>0</td>\n",
              "      <td>0</td>\n",
              "      <td>0</td>\n",
              "      <td>1</td>\n",
              "      <td>0</td>\n",
              "      <td>0</td>\n",
              "      <td>0</td>\n",
              "      <td>0</td>\n",
              "      <td>0</td>\n",
              "      <td>0</td>\n",
              "      <td>0</td>\n",
              "      <td>0</td>\n",
              "      <td>0</td>\n",
              "      <td>0</td>\n",
              "      <td>1</td>\n",
              "      <td>1</td>\n",
              "      <td>0.0</td>\n",
              "      <td>0.0</td>\n",
              "      <td>0.0</td>\n",
              "      <td>0.0</td>\n",
              "      <td>1.0</td>\n",
              "      <td>0.0</td>\n",
              "      <td>0.0</td>\n",
              "      <td>2</td>\n",
              "      <td>2</td>\n",
              "      <td>1.0</td>\n",
              "      <td>0.0</td>\n",
              "      <td>0.50</td>\n",
              "      <td>0.0</td>\n",
              "      <td>0.0</td>\n",
              "      <td>0.0</td>\n",
              "      <td>0.0</td>\n",
              "      <td>0.0</td>\n",
              "      <td>normal.</td>\n",
              "    </tr>\n",
              "    <tr>\n",
              "      <th>3</th>\n",
              "      <td>0</td>\n",
              "      <td>tcp</td>\n",
              "      <td>http</td>\n",
              "      <td>SF</td>\n",
              "      <td>233</td>\n",
              "      <td>2032</td>\n",
              "      <td>0</td>\n",
              "      <td>0</td>\n",
              "      <td>0</td>\n",
              "      <td>0</td>\n",
              "      <td>0</td>\n",
              "      <td>1</td>\n",
              "      <td>0</td>\n",
              "      <td>0</td>\n",
              "      <td>0</td>\n",
              "      <td>0</td>\n",
              "      <td>0</td>\n",
              "      <td>0</td>\n",
              "      <td>0</td>\n",
              "      <td>0</td>\n",
              "      <td>0</td>\n",
              "      <td>0</td>\n",
              "      <td>2</td>\n",
              "      <td>2</td>\n",
              "      <td>0.0</td>\n",
              "      <td>0.0</td>\n",
              "      <td>0.0</td>\n",
              "      <td>0.0</td>\n",
              "      <td>1.0</td>\n",
              "      <td>0.0</td>\n",
              "      <td>0.0</td>\n",
              "      <td>3</td>\n",
              "      <td>3</td>\n",
              "      <td>1.0</td>\n",
              "      <td>0.0</td>\n",
              "      <td>0.33</td>\n",
              "      <td>0.0</td>\n",
              "      <td>0.0</td>\n",
              "      <td>0.0</td>\n",
              "      <td>0.0</td>\n",
              "      <td>0.0</td>\n",
              "      <td>normal.</td>\n",
              "    </tr>\n",
              "    <tr>\n",
              "      <th>4</th>\n",
              "      <td>0</td>\n",
              "      <td>tcp</td>\n",
              "      <td>http</td>\n",
              "      <td>SF</td>\n",
              "      <td>239</td>\n",
              "      <td>486</td>\n",
              "      <td>0</td>\n",
              "      <td>0</td>\n",
              "      <td>0</td>\n",
              "      <td>0</td>\n",
              "      <td>0</td>\n",
              "      <td>1</td>\n",
              "      <td>0</td>\n",
              "      <td>0</td>\n",
              "      <td>0</td>\n",
              "      <td>0</td>\n",
              "      <td>0</td>\n",
              "      <td>0</td>\n",
              "      <td>0</td>\n",
              "      <td>0</td>\n",
              "      <td>0</td>\n",
              "      <td>0</td>\n",
              "      <td>3</td>\n",
              "      <td>3</td>\n",
              "      <td>0.0</td>\n",
              "      <td>0.0</td>\n",
              "      <td>0.0</td>\n",
              "      <td>0.0</td>\n",
              "      <td>1.0</td>\n",
              "      <td>0.0</td>\n",
              "      <td>0.0</td>\n",
              "      <td>4</td>\n",
              "      <td>4</td>\n",
              "      <td>1.0</td>\n",
              "      <td>0.0</td>\n",
              "      <td>0.25</td>\n",
              "      <td>0.0</td>\n",
              "      <td>0.0</td>\n",
              "      <td>0.0</td>\n",
              "      <td>0.0</td>\n",
              "      <td>0.0</td>\n",
              "      <td>normal.</td>\n",
              "    </tr>\n",
              "  </tbody>\n",
              "</table>\n",
              "</div>"
            ],
            "text/plain": [
              "   duration protocol_type  ... dst_host_srv_rerror_rate   result\n",
              "0         0           tcp  ...                      0.0  normal.\n",
              "1         0           tcp  ...                      0.0  normal.\n",
              "2         0           tcp  ...                      0.0  normal.\n",
              "3         0           tcp  ...                      0.0  normal.\n",
              "4         0           tcp  ...                      0.0  normal.\n",
              "\n",
              "[5 rows x 42 columns]"
            ]
          },
          "metadata": {
            "tags": []
          },
          "execution_count": 44
        }
      ]
    },
    {
      "cell_type": "code",
      "metadata": {
        "id": "OOq0WckT0h7Q",
        "outputId": "13a0ec50-4588-4f49-d616-63d897f40914",
        "colab": {
          "base_uri": "https://localhost:8080/",
          "height": 170
        }
      },
      "source": [
        "print('different types of services: {}'.format(df['service'].unique()))"
      ],
      "execution_count": null,
      "outputs": [
        {
          "output_type": "stream",
          "text": [
            "different types of services: ['http' 'smtp' 'domain_u' 'auth' 'finger' 'telnet' 'eco_i' 'ftp' 'ntp_u'\n",
            " 'ecr_i' 'other' 'urp_i' 'private' 'pop_3' 'ftp_data' 'netstat' 'daytime'\n",
            " 'ssh' 'echo' 'time' 'name' 'whois' 'domain' 'mtp' 'gopher' 'remote_job'\n",
            " 'rje' 'ctf' 'supdup' 'link' 'systat' 'discard' 'X11' 'shell' 'login'\n",
            " 'imap4' 'nntp' 'uucp' 'pm_dump' 'IRC' 'Z39_50' 'netbios_dgm' 'ldap'\n",
            " 'sunrpc' 'courier' 'exec' 'bgp' 'csnet_ns' 'http_443' 'klogin' 'printer'\n",
            " 'netbios_ssn' 'pop_2' 'nnsp' 'efs' 'hostnames' 'uucp_path' 'sql_net'\n",
            " 'vmnet' 'iso_tsap' 'netbios_ns' 'kshell' 'urh_i' 'http_2784' 'harvest'\n",
            " 'aol' 'tftp_u' 'http_8001' 'tim_i' 'red_i']\n"
          ],
          "name": "stdout"
        }
      ]
    },
    {
      "cell_type": "markdown",
      "metadata": {
        "id": "Rlb9x8aU-sbD"
      },
      "source": [
        "Let us examine number of attacks of each type present in the data."
      ]
    },
    {
      "cell_type": "code",
      "metadata": {
        "id": "dyrjGbWt9fyC",
        "colab": {
          "base_uri": "https://localhost:8080/",
          "height": 697
        },
        "outputId": "c44a1f69-14bc-4008-c328-8da4b694f468"
      },
      "source": [
        "pd.value_counts(df['result']).plot(kind='bar', figsize=(20, 10))\n",
        "plt.ylabel('number of instances')\n",
        "plt.xticks(fontsize=13)\n",
        "plt.grid()\n",
        "plt.show()"
      ],
      "execution_count": null,
      "outputs": [
        {
          "output_type": "display_data",
          "data": {
            "image/png": "[encoded data removed]",
            "text/plain": [
              "<Figure size 1440x720 with 1 Axes>"
            ]
          },
          "metadata": {
            "tags": [],
            "needs_background": "light"
          }
        }
      ]
    },
    {
      "cell_type": "markdown",
      "metadata": {
        "id": "XDelw7O0-4GQ"
      },
      "source": [
        "It's is strikingly evident that the data set has more anomalies than normal data. So, we consider only a particular service where the normal to anomaly ratio is significantly high."
      ]
    },
    {
      "cell_type": "markdown",
      "metadata": {
        "id": "lgMSTMygp5Y3"
      },
      "source": [
        "As there are many types of services in the dataset, and each sevice has different signature and charactersitics, we fixate on data that has only 'http' as the service."
      ]
    },
    {
      "cell_type": "code",
      "metadata": {
        "id": "Vp5CaEI2gbww"
      },
      "source": [
        "# extracting only the rows which have http service.\n",
        "df_http = df[(df['service']=='http')]"
      ],
      "execution_count": null,
      "outputs": []
    },
    {
      "cell_type": "code",
      "metadata": {
        "id": "UQswaZBSBy8x",
        "colab": {
          "base_uri": "https://localhost:8080/",
          "height": 654
        },
        "outputId": "5a127110-5b2b-4a3d-faac-4fe22841104f"
      },
      "source": [
        "pd.value_counts(df_http['result']).plot(kind='bar', figsize=(20, 10))\n",
        "plt.ylabel('number of instances')\n",
        "plt.xticks(fontsize=13)\n",
        "plt.grid()\n",
        "plt.show()"
      ],
      "execution_count": null,
      "outputs": [
        {
          "output_type": "display_data",
          "data": {
            "image/png": "[encoded data removed]",
            "text/plain": [
              "<Figure size 1440x720 with 1 Axes>"
            ]
          },
          "metadata": {
            "tags": [],
            "needs_background": "light"
          }
        }
      ]
    },
    {
      "cell_type": "markdown",
      "metadata": {
        "id": "YYVnrJpRB9sz"
      },
      "source": [
        "We can see that picking only 'http' service also re-establishes our assumption that attacks/anomalies are rare in nature."
      ]
    },
    {
      "cell_type": "code",
      "metadata": {
        "id": "5oWZ-2ys2Vya",
        "outputId": "d3715d5b-7a78-4c11-e0a9-5c53511b2a2c",
        "colab": {
          "base_uri": "https://localhost:8080/",
          "height": 34
        }
      },
      "source": [
        "normal_instances = df_http[df_http['result']=='normal.'].shape[0]\n",
        "anomalous_instances = df_http[df_http['result']!='normal.'].shape[0]\n",
        "print('percentage of anomalies = {}'.format(100*anomalous_instances/normal_instances))"
      ],
      "execution_count": null,
      "outputs": [
        {
          "output_type": "stream",
          "text": [
            "percentage of anomalies = 0.6534247858802092\n"
          ],
          "name": "stdout"
        }
      ]
    },
    {
      "cell_type": "code",
      "metadata": {
        "id": "ml5UZIKQQsTv"
      },
      "source": [
        "# extracting only the instances belonging to the normal class\n",
        "df_http_normal = df_http[df_http['result']=='normal.']"
      ],
      "execution_count": null,
      "outputs": []
    },
    {
      "cell_type": "code",
      "metadata": {
        "id": "9UiiPAxu3xNJ",
        "outputId": "8f070f5c-a473-4afe-962b-3a158686125b",
        "colab": {
          "base_uri": "https://localhost:8080/",
          "height": 34
        }
      },
      "source": [
        "df_http_normal.shape"
      ],
      "execution_count": null,
      "outputs": [
        {
          "output_type": "execute_result",
          "data": {
            "text/plain": [
              "(619046, 42)"
            ]
          },
          "metadata": {
            "tags": []
          },
          "execution_count": 51
        }
      ]
    },
    {
      "cell_type": "code",
      "metadata": {
        "jupyter": {
          "source_hidden": true
        },
        "id": "urFrgV6ygbwz",
        "outputId": "757472cf-8568-43ed-df83-08f3c0640fea",
        "colab": {
          "base_uri": "https://localhost:8080/",
          "height": 102
        }
      },
      "source": [
        "# dropping catrgorical columns\n",
        "df_http_normal.drop(['protocol_type', 'service', 'flag', 'land', 'logged_in', 'is_host_login', 'is_guest_login', 'result'], axis=1, inplace=True)\n",
        "# dropping columns with no std deviation\n",
        "df_http_normal.drop(['wrong_fragment', 'urgent', 'num_failed_logins', 'su_attempted', 'num_file_creations', 'num_outbound_cmds'], axis=1, inplace=True)"
      ],
      "execution_count": null,
      "outputs": [
        {
          "output_type": "stream",
          "text": [
            "/usr/local/lib/python3.6/dist-packages/pandas/core/frame.py:3997: SettingWithCopyWarning: \n",
            "A value is trying to be set on a copy of a slice from a DataFrame\n",
            "\n",
            "See the caveats in the documentation: https://pandas.pydata.org/pandas-docs/stable/user_guide/indexing.html#returning-a-view-versus-a-copy\n",
            "  errors=errors,\n"
          ],
          "name": "stderr"
        }
      ]
    },
    {
      "cell_type": "code",
      "metadata": {
        "id": "9zG0Y2zo7mv_",
        "colab": {
          "base_uri": "https://localhost:8080/",
          "height": 317
        },
        "outputId": "7c270fd0-9c09-45e5-d212-d271cd4a1311"
      },
      "source": [
        "df_http_normal.describe()"
      ],
      "execution_count": null,
      "outputs": [
        {
          "output_type": "execute_result",
          "data": {
            "text/html": [
              "<div>\n",
              "<style scoped>\n",
              "    .dataframe tbody tr th:only-of-type {\n",
              "        vertical-align: middle;\n",
              "    }\n",
              "\n",
              "    .dataframe tbody tr th {\n",
              "        vertical-align: top;\n",
              "    }\n",
              "\n",
              "    .dataframe thead th {\n",
              "        text-align: right;\n",
              "    }\n",
              "</style>\n",
              "<table border=\"1\" class=\"dataframe\">\n",
              "  <thead>\n",
              "    <tr style=\"text-align: right;\">\n",
              "      <th></th>\n",
              "      <th>duration</th>\n",
              "      <th>src_bytes</th>\n",
              "      <th>dst_bytes</th>\n",
              "      <th>hot</th>\n",
              "      <th>num_compromised</th>\n",
              "      <th>root_shell</th>\n",
              "      <th>num_root</th>\n",
              "      <th>num_shells</th>\n",
              "      <th>num_access_files</th>\n",
              "      <th>count</th>\n",
              "      <th>srv_count</th>\n",
              "      <th>serror_rate</th>\n",
              "      <th>srv_serror_rate</th>\n",
              "      <th>rerror_rate</th>\n",
              "      <th>srv_rerror_rate</th>\n",
              "      <th>same_srv_rate</th>\n",
              "      <th>diff_srv_rate</th>\n",
              "      <th>srv_diff_host_rate</th>\n",
              "      <th>dst_host_count</th>\n",
              "      <th>dst_host_srv_count</th>\n",
              "      <th>dst_host_same_srv_rate</th>\n",
              "      <th>dst_host_diff_srv_rate</th>\n",
              "      <th>dst_host_same_src_port_rate</th>\n",
              "      <th>dst_host_srv_diff_host_rate</th>\n",
              "      <th>dst_host_serror_rate</th>\n",
              "      <th>dst_host_srv_serror_rate</th>\n",
              "      <th>dst_host_rerror_rate</th>\n",
              "      <th>dst_host_srv_rerror_rate</th>\n",
              "    </tr>\n",
              "  </thead>\n",
              "  <tbody>\n",
              "    <tr>\n",
              "      <th>count</th>\n",
              "      <td>619046.000000</td>\n",
              "      <td>619046.000000</td>\n",
              "      <td>6.190460e+05</td>\n",
              "      <td>619046.000000</td>\n",
              "      <td>619046.000000</td>\n",
              "      <td>619046.000000</td>\n",
              "      <td>619046.000000</td>\n",
              "      <td>619046.000000</td>\n",
              "      <td>619046.000000</td>\n",
              "      <td>619046.000000</td>\n",
              "      <td>619046.000000</td>\n",
              "      <td>619046.000000</td>\n",
              "      <td>619046.000000</td>\n",
              "      <td>619046.000000</td>\n",
              "      <td>619046.000000</td>\n",
              "      <td>619046.000000</td>\n",
              "      <td>619046.000000</td>\n",
              "      <td>619046.000000</td>\n",
              "      <td>619046.000000</td>\n",
              "      <td>619046.000000</td>\n",
              "      <td>619046.000000</td>\n",
              "      <td>619046.000000</td>\n",
              "      <td>619046.000000</td>\n",
              "      <td>619046.000000</td>\n",
              "      <td>619046.000000</td>\n",
              "      <td>619046.000000</td>\n",
              "      <td>619046.000000</td>\n",
              "      <td>619046.000000</td>\n",
              "    </tr>\n",
              "    <tr>\n",
              "      <th>mean</th>\n",
              "      <td>0.561887</td>\n",
              "      <td>238.164408</td>\n",
              "      <td>4.099786e+03</td>\n",
              "      <td>0.003489</td>\n",
              "      <td>0.000244</td>\n",
              "      <td>0.000312</td>\n",
              "      <td>0.000013</td>\n",
              "      <td>0.000010</td>\n",
              "      <td>0.005412</td>\n",
              "      <td>8.967949</td>\n",
              "      <td>11.939412</td>\n",
              "      <td>0.001742</td>\n",
              "      <td>0.002147</td>\n",
              "      <td>0.086670</td>\n",
              "      <td>0.087050</td>\n",
              "      <td>0.999875</td>\n",
              "      <td>0.000193</td>\n",
              "      <td>0.111789</td>\n",
              "      <td>127.590137</td>\n",
              "      <td>244.759520</td>\n",
              "      <td>0.997517</td>\n",
              "      <td>0.000701</td>\n",
              "      <td>0.074793</td>\n",
              "      <td>0.031858</td>\n",
              "      <td>0.001152</td>\n",
              "      <td>0.000697</td>\n",
              "      <td>0.087653</td>\n",
              "      <td>0.086727</td>\n",
              "    </tr>\n",
              "    <tr>\n",
              "      <th>std</th>\n",
              "      <td>13.927250</td>\n",
              "      <td>126.545153</td>\n",
              "      <td>2.371340e+04</td>\n",
              "      <td>0.081921</td>\n",
              "      <td>0.037207</td>\n",
              "      <td>0.017654</td>\n",
              "      <td>0.003595</td>\n",
              "      <td>0.003113</td>\n",
              "      <td>0.073364</td>\n",
              "      <td>9.252731</td>\n",
              "      <td>11.735141</td>\n",
              "      <td>0.026510</td>\n",
              "      <td>0.025574</td>\n",
              "      <td>0.280405</td>\n",
              "      <td>0.278681</td>\n",
              "      <td>0.007664</td>\n",
              "      <td>0.011216</td>\n",
              "      <td>0.217565</td>\n",
              "      <td>105.902328</td>\n",
              "      <td>39.788676</td>\n",
              "      <td>0.020105</td>\n",
              "      <td>0.006409</td>\n",
              "      <td>0.185882</td>\n",
              "      <td>0.050566</td>\n",
              "      <td>0.013363</td>\n",
              "      <td>0.003392</td>\n",
              "      <td>0.274847</td>\n",
              "      <td>0.268584</td>\n",
              "    </tr>\n",
              "    <tr>\n",
              "      <th>min</th>\n",
              "      <td>0.000000</td>\n",
              "      <td>0.000000</td>\n",
              "      <td>0.000000e+00</td>\n",
              "      <td>0.000000</td>\n",
              "      <td>0.000000</td>\n",
              "      <td>0.000000</td>\n",
              "      <td>0.000000</td>\n",
              "      <td>0.000000</td>\n",
              "      <td>0.000000</td>\n",
              "      <td>0.000000</td>\n",
              "      <td>0.000000</td>\n",
              "      <td>0.000000</td>\n",
              "      <td>0.000000</td>\n",
              "      <td>0.000000</td>\n",
              "      <td>0.000000</td>\n",
              "      <td>0.000000</td>\n",
              "      <td>0.000000</td>\n",
              "      <td>0.000000</td>\n",
              "      <td>0.000000</td>\n",
              "      <td>0.000000</td>\n",
              "      <td>0.000000</td>\n",
              "      <td>0.000000</td>\n",
              "      <td>0.000000</td>\n",
              "      <td>0.000000</td>\n",
              "      <td>0.000000</td>\n",
              "      <td>0.000000</td>\n",
              "      <td>0.000000</td>\n",
              "      <td>0.000000</td>\n",
              "    </tr>\n",
              "    <tr>\n",
              "      <th>25%</th>\n",
              "      <td>0.000000</td>\n",
              "      <td>210.000000</td>\n",
              "      <td>4.580000e+02</td>\n",
              "      <td>0.000000</td>\n",
              "      <td>0.000000</td>\n",
              "      <td>0.000000</td>\n",
              "      <td>0.000000</td>\n",
              "      <td>0.000000</td>\n",
              "      <td>0.000000</td>\n",
              "      <td>2.000000</td>\n",
              "      <td>3.000000</td>\n",
              "      <td>0.000000</td>\n",
              "      <td>0.000000</td>\n",
              "      <td>0.000000</td>\n",
              "      <td>0.000000</td>\n",
              "      <td>1.000000</td>\n",
              "      <td>0.000000</td>\n",
              "      <td>0.000000</td>\n",
              "      <td>21.000000</td>\n",
              "      <td>255.000000</td>\n",
              "      <td>1.000000</td>\n",
              "      <td>0.000000</td>\n",
              "      <td>0.000000</td>\n",
              "      <td>0.000000</td>\n",
              "      <td>0.000000</td>\n",
              "      <td>0.000000</td>\n",
              "      <td>0.000000</td>\n",
              "      <td>0.000000</td>\n",
              "    </tr>\n",
              "    <tr>\n",
              "      <th>50%</th>\n",
              "      <td>0.000000</td>\n",
              "      <td>240.000000</td>\n",
              "      <td>1.425000e+03</td>\n",
              "      <td>0.000000</td>\n",
              "      <td>0.000000</td>\n",
              "      <td>0.000000</td>\n",
              "      <td>0.000000</td>\n",
              "      <td>0.000000</td>\n",
              "      <td>0.000000</td>\n",
              "      <td>6.000000</td>\n",
              "      <td>8.000000</td>\n",
              "      <td>0.000000</td>\n",
              "      <td>0.000000</td>\n",
              "      <td>0.000000</td>\n",
              "      <td>0.000000</td>\n",
              "      <td>1.000000</td>\n",
              "      <td>0.000000</td>\n",
              "      <td>0.000000</td>\n",
              "      <td>96.000000</td>\n",
              "      <td>255.000000</td>\n",
              "      <td>1.000000</td>\n",
              "      <td>0.000000</td>\n",
              "      <td>0.010000</td>\n",
              "      <td>0.020000</td>\n",
              "      <td>0.000000</td>\n",
              "      <td>0.000000</td>\n",
              "      <td>0.000000</td>\n",
              "      <td>0.000000</td>\n",
              "    </tr>\n",
              "    <tr>\n",
              "      <th>75%</th>\n",
              "      <td>0.000000</td>\n",
              "      <td>302.000000</td>\n",
              "      <td>3.727000e+03</td>\n",
              "      <td>0.000000</td>\n",
              "      <td>0.000000</td>\n",
              "      <td>0.000000</td>\n",
              "      <td>0.000000</td>\n",
              "      <td>0.000000</td>\n",
              "      <td>0.000000</td>\n",
              "      <td>13.000000</td>\n",
              "      <td>17.000000</td>\n",
              "      <td>0.000000</td>\n",
              "      <td>0.000000</td>\n",
              "      <td>0.000000</td>\n",
              "      <td>0.000000</td>\n",
              "      <td>1.000000</td>\n",
              "      <td>0.000000</td>\n",
              "      <td>0.140000</td>\n",
              "      <td>255.000000</td>\n",
              "      <td>255.000000</td>\n",
              "      <td>1.000000</td>\n",
              "      <td>0.000000</td>\n",
              "      <td>0.050000</td>\n",
              "      <td>0.040000</td>\n",
              "      <td>0.000000</td>\n",
              "      <td>0.000000</td>\n",
              "      <td>0.000000</td>\n",
              "      <td>0.000000</td>\n",
              "    </tr>\n",
              "    <tr>\n",
              "      <th>max</th>\n",
              "      <td>3289.000000</td>\n",
              "      <td>54540.000000</td>\n",
              "      <td>1.173059e+07</td>\n",
              "      <td>21.000000</td>\n",
              "      <td>21.000000</td>\n",
              "      <td>1.000000</td>\n",
              "      <td>1.000000</td>\n",
              "      <td>1.000000</td>\n",
              "      <td>1.000000</td>\n",
              "      <td>511.000000</td>\n",
              "      <td>115.000000</td>\n",
              "      <td>1.000000</td>\n",
              "      <td>1.000000</td>\n",
              "      <td>1.000000</td>\n",
              "      <td>1.000000</td>\n",
              "      <td>1.000000</td>\n",
              "      <td>1.000000</td>\n",
              "      <td>1.000000</td>\n",
              "      <td>255.000000</td>\n",
              "      <td>255.000000</td>\n",
              "      <td>1.000000</td>\n",
              "      <td>1.000000</td>\n",
              "      <td>1.000000</td>\n",
              "      <td>1.000000</td>\n",
              "      <td>1.000000</td>\n",
              "      <td>0.500000</td>\n",
              "      <td>1.000000</td>\n",
              "      <td>1.000000</td>\n",
              "    </tr>\n",
              "  </tbody>\n",
              "</table>\n",
              "</div>"
            ],
            "text/plain": [
              "            duration  ...  dst_host_srv_rerror_rate\n",
              "count  619046.000000  ...             619046.000000\n",
              "mean        0.561887  ...                  0.086727\n",
              "std        13.927250  ...                  0.268584\n",
              "min         0.000000  ...                  0.000000\n",
              "25%         0.000000  ...                  0.000000\n",
              "50%         0.000000  ...                  0.000000\n",
              "75%         0.000000  ...                  0.000000\n",
              "max      3289.000000  ...                  1.000000\n",
              "\n",
              "[8 rows x 28 columns]"
            ]
          },
          "metadata": {
            "tags": []
          },
          "execution_count": 53
        }
      ]
    },
    {
      "cell_type": "code",
      "metadata": {
        "id": "G8iPK7Yc5qJD",
        "colab": {
          "base_uri": "https://localhost:8080/",
          "height": 603
        },
        "outputId": "79eab391-ddd1-44ce-fcb3-431199f6585f"
      },
      "source": [
        "df_http_normal.boxplot(figsize=(20, 10))\n",
        "plt.show()"
      ],
      "execution_count": null,
      "outputs": [
        {
          "output_type": "display_data",
          "data": {
            "image/png": "[encoded data removed]",
            "text/plain": [
              "<Figure size 1440x720 with 1 Axes>"
            ]
          },
          "metadata": {
            "tags": [],
            "needs_background": "light"
          }
        }
      ]
    },
    {
      "cell_type": "code",
      "metadata": {
        "jupyter": {
          "source_hidden": true
        },
        "id": "uzGX0LqVgbw1"
      },
      "source": [
        "# scaling the data using standard scaler\n",
        "scaler = StandardScaler()\n",
        "df_http_normal = pd.DataFrame(scaler.fit_transform(df_http_normal), columns=df_http_normal.columns)"
      ],
      "execution_count": null,
      "outputs": []
    },
    {
      "cell_type": "code",
      "metadata": {
        "id": "jAepICEa9HXl",
        "colab": {
          "base_uri": "https://localhost:8080/",
          "height": 730
        },
        "outputId": "9c5955f0-f4f5-42ee-d330-c37f2d8ddc44"
      },
      "source": [
        "# examining the correlation between different features\n",
        "plt.figure(figsize=(15, 10))\n",
        "sns.heatmap(df_http_normal.corr(), cmap='viridis')\n",
        "plt.show()"
      ],
      "execution_count": null,
      "outputs": [
        {
          "output_type": "display_data",
          "data": {
            "image/png": "[encoded data removed]",
            "text/plain": [
              "<Figure size 1080x720 with 2 Axes>"
            ]
          },
          "metadata": {
            "tags": [],
            "needs_background": "light"
          }
        }
      ]
    },
    {
      "cell_type": "code",
      "metadata": {
        "jupyter": {
          "source_hidden": true
        },
        "id": "B6yprlIEgbw3",
        "outputId": "c2d88521-e730-4f21-8d51-863a8698bac5",
        "colab": {
          "base_uri": "https://localhost:8080/",
          "height": 51
        }
      },
      "source": [
        "# reducing the dimensionality of the data using PCA and covering 80% of the variance in the original data\n",
        "pca = PCA(n_components=0.8)\n",
        "pca.fit(df_http_normal)"
      ],
      "execution_count": null,
      "outputs": [
        {
          "output_type": "execute_result",
          "data": {
            "text/plain": [
              "PCA(copy=True, iterated_power='auto', n_components=0.8, random_state=None,\n",
              "    svd_solver='auto', tol=0.0, whiten=False)"
            ]
          },
          "metadata": {
            "tags": []
          },
          "execution_count": 57
        }
      ]
    },
    {
      "cell_type": "code",
      "metadata": {
        "id": "TF-a0fjZvQiR"
      },
      "source": [
        "pca_cols = ['PCA_'+ str(i) for i in range(pca.n_components_)]\n",
        "df_pca = pd.DataFrame(pca.transform(df_http_normal), columns=pca_cols)"
      ],
      "execution_count": null,
      "outputs": []
    },
    {
      "cell_type": "code",
      "metadata": {
        "id": "YvDKk75I3uvK",
        "outputId": "ba343c94-a94c-49bb-a848-a3dd0e6a13cc",
        "colab": {
          "base_uri": "https://localhost:8080/",
          "height": 204
        }
      },
      "source": [
        "df_pca.head()"
      ],
      "execution_count": null,
      "outputs": [
        {
          "output_type": "execute_result",
          "data": {
            "text/html": [
              "<div>\n",
              "<style scoped>\n",
              "    .dataframe tbody tr th:only-of-type {\n",
              "        vertical-align: middle;\n",
              "    }\n",
              "\n",
              "    .dataframe tbody tr th {\n",
              "        vertical-align: top;\n",
              "    }\n",
              "\n",
              "    .dataframe thead th {\n",
              "        text-align: right;\n",
              "    }\n",
              "</style>\n",
              "<table border=\"1\" class=\"dataframe\">\n",
              "  <thead>\n",
              "    <tr style=\"text-align: right;\">\n",
              "      <th></th>\n",
              "      <th>PCA_0</th>\n",
              "      <th>PCA_1</th>\n",
              "      <th>PCA_2</th>\n",
              "      <th>PCA_3</th>\n",
              "      <th>PCA_4</th>\n",
              "      <th>PCA_5</th>\n",
              "      <th>PCA_6</th>\n",
              "      <th>PCA_7</th>\n",
              "      <th>PCA_8</th>\n",
              "      <th>PCA_9</th>\n",
              "      <th>PCA_10</th>\n",
              "      <th>PCA_11</th>\n",
              "      <th>PCA_12</th>\n",
              "      <th>PCA_13</th>\n",
              "    </tr>\n",
              "  </thead>\n",
              "  <tbody>\n",
              "    <tr>\n",
              "      <th>0</th>\n",
              "      <td>-1.798859</td>\n",
              "      <td>3.088944</td>\n",
              "      <td>29.703657</td>\n",
              "      <td>-10.272687</td>\n",
              "      <td>-9.938632</td>\n",
              "      <td>1.727932</td>\n",
              "      <td>5.309854</td>\n",
              "      <td>1.859650</td>\n",
              "      <td>0.355877</td>\n",
              "      <td>0.100662</td>\n",
              "      <td>0.108021</td>\n",
              "      <td>2.466347</td>\n",
              "      <td>-8.499384</td>\n",
              "      <td>-3.726095</td>\n",
              "    </tr>\n",
              "    <tr>\n",
              "      <th>1</th>\n",
              "      <td>-1.967497</td>\n",
              "      <td>0.568716</td>\n",
              "      <td>0.771258</td>\n",
              "      <td>-1.566955</td>\n",
              "      <td>1.499832</td>\n",
              "      <td>-0.431848</td>\n",
              "      <td>3.836505</td>\n",
              "      <td>0.189430</td>\n",
              "      <td>0.065545</td>\n",
              "      <td>-0.021060</td>\n",
              "      <td>-0.083078</td>\n",
              "      <td>0.425626</td>\n",
              "      <td>-0.499786</td>\n",
              "      <td>-0.914779</td>\n",
              "    </tr>\n",
              "    <tr>\n",
              "      <th>2</th>\n",
              "      <td>-1.269001</td>\n",
              "      <td>0.462764</td>\n",
              "      <td>1.034286</td>\n",
              "      <td>-1.482814</td>\n",
              "      <td>1.074706</td>\n",
              "      <td>-0.349238</td>\n",
              "      <td>3.144712</td>\n",
              "      <td>0.071235</td>\n",
              "      <td>-0.013609</td>\n",
              "      <td>-0.013818</td>\n",
              "      <td>-0.187998</td>\n",
              "      <td>0.231023</td>\n",
              "      <td>-0.123385</td>\n",
              "      <td>-1.041323</td>\n",
              "    </tr>\n",
              "    <tr>\n",
              "      <th>3</th>\n",
              "      <td>-1.038257</td>\n",
              "      <td>0.400356</td>\n",
              "      <td>1.093054</td>\n",
              "      <td>-1.340184</td>\n",
              "      <td>0.809126</td>\n",
              "      <td>-0.291742</td>\n",
              "      <td>2.937857</td>\n",
              "      <td>0.099897</td>\n",
              "      <td>-0.038134</td>\n",
              "      <td>-0.010789</td>\n",
              "      <td>-0.217200</td>\n",
              "      <td>0.226344</td>\n",
              "      <td>-0.021436</td>\n",
              "      <td>-1.016548</td>\n",
              "    </tr>\n",
              "    <tr>\n",
              "      <th>4</th>\n",
              "      <td>-0.894030</td>\n",
              "      <td>0.357148</td>\n",
              "      <td>1.109916</td>\n",
              "      <td>-1.233189</td>\n",
              "      <td>0.640405</td>\n",
              "      <td>-0.258253</td>\n",
              "      <td>2.864317</td>\n",
              "      <td>0.056544</td>\n",
              "      <td>-0.048781</td>\n",
              "      <td>-0.009322</td>\n",
              "      <td>-0.229586</td>\n",
              "      <td>0.170876</td>\n",
              "      <td>0.016926</td>\n",
              "      <td>-1.008761</td>\n",
              "    </tr>\n",
              "  </tbody>\n",
              "</table>\n",
              "</div>"
            ],
            "text/plain": [
              "      PCA_0     PCA_1      PCA_2  ...    PCA_11    PCA_12    PCA_13\n",
              "0 -1.798859  3.088944  29.703657  ...  2.466347 -8.499384 -3.726095\n",
              "1 -1.967497  0.568716   0.771258  ...  0.425626 -0.499786 -0.914779\n",
              "2 -1.269001  0.462764   1.034286  ...  0.231023 -0.123385 -1.041323\n",
              "3 -1.038257  0.400356   1.093054  ...  0.226344 -0.021436 -1.016548\n",
              "4 -0.894030  0.357148   1.109916  ...  0.170876  0.016926 -1.008761\n",
              "\n",
              "[5 rows x 14 columns]"
            ]
          },
          "metadata": {
            "tags": []
          },
          "execution_count": 59
        }
      ]
    },
    {
      "cell_type": "code",
      "metadata": {
        "id": "L5abOByz0Leo"
      },
      "source": [
        "def get_windows(df, window_size=20, stride=10):\n",
        "  windows_arr = []\n",
        "  for i in tqdm.tqdm(range(0, len(df)-window_size+1, stride)):\n",
        "    windows_arr.append(df.iloc[i:i+window_size, :].to_numpy())\n",
        "  return np.array(windows_arr)"
      ],
      "execution_count": null,
      "outputs": []
    },
    {
      "cell_type": "code",
      "metadata": {
        "id": "w4q_E5Sp676e",
        "outputId": "f9095c48-a566-4baa-e7f5-eb2bbecd2446",
        "colab": {
          "base_uri": "https://localhost:8080/",
          "height": 34
        }
      },
      "source": [
        "window_size, stride = 10, 10\n",
        "windows_arr = get_windows(df_pca, window_size, stride)"
      ],
      "execution_count": null,
      "outputs": [
        {
          "output_type": "stream",
          "text": [
            "100%|██████████| 61904/61904 [00:08<00:00, 7344.73it/s]\n"
          ],
          "name": "stderr"
        }
      ]
    },
    {
      "cell_type": "code",
      "metadata": {
        "id": "UPlAxgSbIK12"
      },
      "source": [
        "# shuffling windows for training purpose\n",
        "indices = np.arange(windows_arr.shape[0])\n",
        "np.random.shuffle(indices)\n",
        "windows_shuffled = windows_arr[indices]"
      ],
      "execution_count": null,
      "outputs": []
    },
    {
      "cell_type": "code",
      "metadata": {
        "id": "6ZTSW0eYfVIz",
        "outputId": "72a68ee0-a1a6-4319-8973-6dd30d9a961b",
        "colab": {
          "base_uri": "https://localhost:8080/",
          "height": 221
        }
      },
      "source": [
        "K.clear_session()\n",
        "# encoder model with stacked LSTM\n",
        "encoder = Sequential([LSTM(80, return_sequences=True, activation='selu',input_shape=(window_size, 14), dropout=0.2), LSTM(50, activation='selu', return_sequences=True),\n",
        "                      LSTM(20, activation='selu')], name='encoder')\n",
        "# decoder model with output dimension same as input dimension\n",
        "decoder = Sequential([RepeatVector(window_size), LSTM(50, activation='selu', return_sequences=True), LSTM(80, activation='selu',return_sequences=True),\n",
        "                      TimeDistributed(Dense(14, activation='linear'))], name='decoder')\n",
        "# creating sequential autoencoder using encoder, decoder as layers\n",
        "autoencoder = Sequential([encoder, decoder], name='autoencoder')\n",
        "autoencoder.compile(optimizer='adam', loss = tf.keras.losses.Huber(100.))\n",
        "autoencoder.summary()"
      ],
      "execution_count": null,
      "outputs": [
        {
          "output_type": "stream",
          "text": [
            "Model: \"autoencoder\"\n",
            "_________________________________________________________________\n",
            "Layer (type)                 Output Shape              Param #   \n",
            "=================================================================\n",
            "encoder (Sequential)         (None, 20)                62280     \n",
            "_________________________________________________________________\n",
            "decoder (Sequential)         (None, 10, 14)            57254     \n",
            "=================================================================\n",
            "Total params: 119,534\n",
            "Trainable params: 119,534\n",
            "Non-trainable params: 0\n",
            "_________________________________________________________________\n"
          ],
          "name": "stdout"
        }
      ]
    },
    {
      "cell_type": "code",
      "metadata": {
        "id": "j6zq4GK4EmyR",
        "colab": {
          "base_uri": "https://localhost:8080/",
          "height": 544
        },
        "outputId": "a534966b-7fe7-40ba-bc8b-9e71812d6a4e"
      },
      "source": [
        "encoder.summary(), decoder.summary()"
      ],
      "execution_count": null,
      "outputs": [
        {
          "output_type": "stream",
          "text": [
            "Model: \"encoder\"\n",
            "_________________________________________________________________\n",
            "Layer (type)                 Output Shape              Param #   \n",
            "=================================================================\n",
            "lstm (LSTM)                  (None, 10, 80)            30400     \n",
            "_________________________________________________________________\n",
            "lstm_1 (LSTM)                (None, 10, 50)            26200     \n",
            "_________________________________________________________________\n",
            "lstm_2 (LSTM)                (None, 20)                5680      \n",
            "=================================================================\n",
            "Total params: 62,280\n",
            "Trainable params: 62,280\n",
            "Non-trainable params: 0\n",
            "_________________________________________________________________\n",
            "Model: \"decoder\"\n",
            "_________________________________________________________________\n",
            "Layer (type)                 Output Shape              Param #   \n",
            "=================================================================\n",
            "repeat_vector (RepeatVector) (None, 10, 20)            0         \n",
            "_________________________________________________________________\n",
            "lstm_3 (LSTM)                (None, 10, 50)            14200     \n",
            "_________________________________________________________________\n",
            "lstm_4 (LSTM)                (None, 10, 80)            41920     \n",
            "_________________________________________________________________\n",
            "time_distributed (TimeDistri (None, 10, 14)            1134      \n",
            "=================================================================\n",
            "Total params: 57,254\n",
            "Trainable params: 57,254\n",
            "Non-trainable params: 0\n",
            "_________________________________________________________________\n"
          ],
          "name": "stdout"
        },
        {
          "output_type": "execute_result",
          "data": {
            "text/plain": [
              "(None, None)"
            ]
          },
          "metadata": {
            "tags": []
          },
          "execution_count": 64
        }
      ]
    },
    {
      "cell_type": "markdown",
      "metadata": {
        "id": "pL9l7L9_FKfG"
      },
      "source": [
        "Now, we train the model using the data generated above. A small portion of data called the validation set is set aside to measure the performance of the model at the end of each epoch. The model and it's set of parameters which tend to perform best on the validation data is saved if the there is a improvement in performance. Later this model is restored for inference purposes."
      ]
    },
    {
      "cell_type": "code",
      "metadata": {
        "collapsed": true,
        "jupyter": {
          "outputs_hidden": true,
          "source_hidden": true
        },
        "id": "Sm0fPTyIgbw7",
        "outputId": "737f7676-ca8a-49be-ffc6-27cbfa01350a",
        "colab": {
          "base_uri": "https://localhost:8080/",
          "height": 1000
        }
      },
      "source": [
        "check_point = tf.keras.callbacks.ModelCheckpoint('autoencoder.h5', monitor='val_loss', save_best_only=True, mode='min', verbose=1)\n",
        "train_hist = autoencoder.fit(windows_shuffled, windows_shuffled[:, :, ::-1], batch_size=64, validation_split=0.2, epochs=100, callbacks=[check_point])"
      ],
      "execution_count": null,
      "outputs": [
        {
          "output_type": "stream",
          "text": [
            "Epoch 1/100\n",
            "774/774 [==============================] - ETA: 0s - loss: 0.4318\n",
            "Epoch 00001: val_loss improved from inf to 0.36632, saving model to autoencoder.h5\n",
            "774/774 [==============================] - 80s 103ms/step - loss: 0.4318 - val_loss: 0.3663\n",
            "Epoch 2/100\n",
            "774/774 [==============================] - ETA: 0s - loss: 0.3877\n",
            "Epoch 00002: val_loss improved from 0.36632 to 0.33195, saving model to autoencoder.h5\n",
            "774/774 [==============================] - 80s 103ms/step - loss: 0.3877 - val_loss: 0.3320\n",
            "Epoch 3/100\n",
            "774/774 [==============================] - ETA: 0s - loss: 0.3902\n",
            "Epoch 00003: val_loss improved from 0.33195 to 0.32236, saving model to autoencoder.h5\n",
            "774/774 [==============================] - 79s 102ms/step - loss: 0.3902 - val_loss: 0.3224\n",
            "Epoch 4/100\n",
            "774/774 [==============================] - ETA: 0s - loss: 0.3503\n",
            "Epoch 00004: val_loss improved from 0.32236 to 0.30271, saving model to autoencoder.h5\n",
            "774/774 [==============================] - 79s 102ms/step - loss: 0.3503 - val_loss: 0.3027\n",
            "Epoch 5/100\n",
            "774/774 [==============================] - ETA: 0s - loss: 0.3369\n",
            "Epoch 00005: val_loss improved from 0.30271 to 0.28995, saving model to autoencoder.h5\n",
            "774/774 [==============================] - 79s 102ms/step - loss: 0.3369 - val_loss: 0.2900\n",
            "Epoch 6/100\n",
            "774/774 [==============================] - ETA: 0s - loss: 0.3334\n",
            "Epoch 00006: val_loss did not improve from 0.28995\n",
            "774/774 [==============================] - 79s 102ms/step - loss: 0.3334 - val_loss: 0.3077\n",
            "Epoch 7/100\n",
            "774/774 [==============================] - ETA: 0s - loss: 0.3212\n",
            "Epoch 00007: val_loss improved from 0.28995 to 0.26454, saving model to autoencoder.h5\n",
            "774/774 [==============================] - 78s 101ms/step - loss: 0.3212 - val_loss: 0.2645\n",
            "Epoch 8/100\n",
            "774/774 [==============================] - ETA: 0s - loss: 0.3096\n",
            "Epoch 00008: val_loss did not improve from 0.26454\n",
            "774/774 [==============================] - 78s 100ms/step - loss: 0.3096 - val_loss: 0.2714\n",
            "Epoch 9/100\n",
            "774/774 [==============================] - ETA: 0s - loss: 0.3003\n",
            "Epoch 00009: val_loss improved from 0.26454 to 0.25819, saving model to autoencoder.h5\n",
            "774/774 [==============================] - 78s 100ms/step - loss: 0.3003 - val_loss: 0.2582\n",
            "Epoch 10/100\n",
            "774/774 [==============================] - ETA: 0s - loss: 0.3009\n",
            "Epoch 00010: val_loss did not improve from 0.25819\n",
            "774/774 [==============================] - 78s 101ms/step - loss: 0.3009 - val_loss: 0.2610\n",
            "Epoch 11/100\n",
            "774/774 [==============================] - ETA: 0s - loss: 0.2877\n",
            "Epoch 00011: val_loss improved from 0.25819 to 0.25254, saving model to autoencoder.h5\n",
            "774/774 [==============================] - 77s 99ms/step - loss: 0.2877 - val_loss: 0.2525\n",
            "Epoch 12/100\n",
            "774/774 [==============================] - ETA: 0s - loss: 0.2821\n",
            "Epoch 00012: val_loss improved from 0.25254 to 0.22618, saving model to autoencoder.h5\n",
            "774/774 [==============================] - 77s 100ms/step - loss: 0.2821 - val_loss: 0.2262\n",
            "Epoch 13/100\n",
            "774/774 [==============================] - ETA: 0s - loss: 0.2850\n",
            "Epoch 00013: val_loss did not improve from 0.22618\n",
            "774/774 [==============================] - 77s 100ms/step - loss: 0.2850 - val_loss: 0.2330\n",
            "Epoch 14/100\n",
            "774/774 [==============================] - ETA: 0s - loss: 0.2756\n",
            "Epoch 00014: val_loss improved from 0.22618 to 0.22255, saving model to autoencoder.h5\n",
            "774/774 [==============================] - 78s 100ms/step - loss: 0.2756 - val_loss: 0.2225\n",
            "Epoch 15/100\n",
            "774/774 [==============================] - ETA: 0s - loss: 0.2600\n",
            "Epoch 00015: val_loss improved from 0.22255 to 0.21832, saving model to autoencoder.h5\n",
            "774/774 [==============================] - 78s 100ms/step - loss: 0.2600 - val_loss: 0.2183\n",
            "Epoch 16/100\n",
            "774/774 [==============================] - ETA: 0s - loss: 0.2540\n",
            "Epoch 00016: val_loss did not improve from 0.21832\n",
            "774/774 [==============================] - 78s 100ms/step - loss: 0.2540 - val_loss: 0.2424\n",
            "Epoch 17/100\n",
            "774/774 [==============================] - ETA: 0s - loss: 0.2621\n",
            "Epoch 00017: val_loss did not improve from 0.21832\n",
            "774/774 [==============================] - 77s 100ms/step - loss: 0.2621 - val_loss: 0.2200\n",
            "Epoch 18/100\n",
            "774/774 [==============================] - ETA: 0s - loss: 0.2559\n",
            "Epoch 00018: val_loss improved from 0.21832 to 0.19688, saving model to autoencoder.h5\n",
            "774/774 [==============================] - 78s 101ms/step - loss: 0.2559 - val_loss: 0.1969\n",
            "Epoch 19/100\n",
            "774/774 [==============================] - ETA: 0s - loss: 0.2493\n",
            "Epoch 00019: val_loss did not improve from 0.19688\n",
            "774/774 [==============================] - 77s 100ms/step - loss: 0.2493 - val_loss: 0.2872\n",
            "Epoch 20/100\n",
            "774/774 [==============================] - ETA: 0s - loss: 0.2648\n",
            "Epoch 00020: val_loss did not improve from 0.19688\n",
            "774/774 [==============================] - 78s 101ms/step - loss: 0.2648 - val_loss: 0.2148\n",
            "Epoch 21/100\n",
            "774/774 [==============================] - ETA: 0s - loss: 0.2467\n",
            "Epoch 00021: val_loss did not improve from 0.19688\n",
            "774/774 [==============================] - 77s 100ms/step - loss: 0.2467 - val_loss: 0.2211\n",
            "Epoch 22/100\n",
            "774/774 [==============================] - ETA: 0s - loss: 0.2546\n",
            "Epoch 00022: val_loss did not improve from 0.19688\n",
            "774/774 [==============================] - 77s 100ms/step - loss: 0.2546 - val_loss: 0.2065\n",
            "Epoch 23/100\n",
            "774/774 [==============================] - ETA: 0s - loss: 0.2554\n",
            "Epoch 00023: val_loss did not improve from 0.19688\n",
            "774/774 [==============================] - 76s 99ms/step - loss: 0.2554 - val_loss: 0.2041\n",
            "Epoch 24/100\n",
            "774/774 [==============================] - ETA: 0s - loss: 0.2495\n",
            "Epoch 00024: val_loss did not improve from 0.19688\n",
            "774/774 [==============================] - 77s 99ms/step - loss: 0.2495 - val_loss: 0.2083\n",
            "Epoch 25/100\n",
            "774/774 [==============================] - ETA: 0s - loss: 0.2606\n",
            "Epoch 00025: val_loss did not improve from 0.19688\n",
            "774/774 [==============================] - 77s 99ms/step - loss: 0.2606 - val_loss: 0.1975\n",
            "Epoch 26/100\n",
            "774/774 [==============================] - ETA: 0s - loss: 0.2233\n",
            "Epoch 00026: val_loss improved from 0.19688 to 0.16955, saving model to autoencoder.h5\n",
            "774/774 [==============================] - 78s 100ms/step - loss: 0.2233 - val_loss: 0.1696\n",
            "Epoch 27/100\n",
            "774/774 [==============================] - ETA: 0s - loss: 0.2137\n",
            "Epoch 00027: val_loss did not improve from 0.16955\n",
            "774/774 [==============================] - 77s 99ms/step - loss: 0.2137 - val_loss: 0.1775\n",
            "Epoch 28/100\n",
            "774/774 [==============================] - ETA: 0s - loss: 0.2467\n",
            "Epoch 00028: val_loss improved from 0.16955 to 0.16075, saving model to autoencoder.h5\n",
            "774/774 [==============================] - 77s 99ms/step - loss: 0.2467 - val_loss: 0.1608\n",
            "Epoch 29/100\n",
            "774/774 [==============================] - ETA: 0s - loss: 0.2405\n",
            "Epoch 00029: val_loss did not improve from 0.16075\n",
            "774/774 [==============================] - 76s 99ms/step - loss: 0.2405 - val_loss: 0.3504\n",
            "Epoch 30/100\n",
            "774/774 [==============================] - ETA: 0s - loss: 0.2684\n",
            "Epoch 00030: val_loss did not improve from 0.16075\n",
            "774/774 [==============================] - 77s 99ms/step - loss: 0.2684 - val_loss: 0.1954\n",
            "Epoch 31/100\n",
            "774/774 [==============================] - ETA: 0s - loss: 0.2291\n",
            "Epoch 00031: val_loss did not improve from 0.16075\n",
            "774/774 [==============================] - 76s 99ms/step - loss: 0.2291 - val_loss: 0.1832\n",
            "Epoch 32/100\n",
            "774/774 [==============================] - ETA: 0s - loss: 0.2238\n",
            "Epoch 00032: val_loss did not improve from 0.16075\n",
            "774/774 [==============================] - 76s 99ms/step - loss: 0.2238 - val_loss: 0.2071\n",
            "Epoch 33/100\n",
            "774/774 [==============================] - ETA: 0s - loss: 0.2153\n",
            "Epoch 00033: val_loss did not improve from 0.16075\n",
            "774/774 [==============================] - 76s 98ms/step - loss: 0.2153 - val_loss: 0.1737\n",
            "Epoch 34/100\n",
            "774/774 [==============================] - ETA: 0s - loss: 0.2605\n",
            "Epoch 00034: val_loss improved from 0.16075 to 0.15549, saving model to autoencoder.h5\n",
            "774/774 [==============================] - 76s 99ms/step - loss: 0.2605 - val_loss: 0.1555\n",
            "Epoch 35/100\n",
            "774/774 [==============================] - ETA: 0s - loss: 0.2182\n",
            "Epoch 00035: val_loss improved from 0.15549 to 0.15207, saving model to autoencoder.h5\n",
            "774/774 [==============================] - 76s 98ms/step - loss: 0.2182 - val_loss: 0.1521\n",
            "Epoch 36/100\n",
            "774/774 [==============================] - ETA: 0s - loss: 0.2272\n",
            "Epoch 00036: val_loss did not improve from 0.15207\n",
            "774/774 [==============================] - 75s 97ms/step - loss: 0.2272 - val_loss: 0.1901\n",
            "Epoch 37/100\n",
            "774/774 [==============================] - ETA: 0s - loss: 0.2341\n",
            "Epoch 00037: val_loss did not improve from 0.15207\n",
            "774/774 [==============================] - 75s 97ms/step - loss: 0.2341 - val_loss: 0.1790\n",
            "Epoch 38/100\n",
            "774/774 [==============================] - ETA: 0s - loss: 0.2635\n",
            "Epoch 00038: val_loss did not improve from 0.15207\n",
            "774/774 [==============================] - 76s 98ms/step - loss: 0.2635 - val_loss: 0.1744\n",
            "Epoch 39/100\n",
            "774/774 [==============================] - ETA: 0s - loss: 0.2273\n",
            "Epoch 00039: val_loss did not improve from 0.15207\n",
            "774/774 [==============================] - 76s 98ms/step - loss: 0.2273 - val_loss: 0.1750\n",
            "Epoch 40/100\n",
            "774/774 [==============================] - ETA: 0s - loss: 0.2156\n",
            "Epoch 00040: val_loss did not improve from 0.15207\n",
            "774/774 [==============================] - 75s 97ms/step - loss: 0.2156 - val_loss: 0.1649\n",
            "Epoch 41/100\n",
            "774/774 [==============================] - ETA: 0s - loss: 0.2143\n",
            "Epoch 00041: val_loss did not improve from 0.15207\n",
            "774/774 [==============================] - 76s 98ms/step - loss: 0.2143 - val_loss: 0.1927\n",
            "Epoch 42/100\n",
            "774/774 [==============================] - ETA: 0s - loss: 0.2124\n",
            "Epoch 00042: val_loss did not improve from 0.15207\n",
            "774/774 [==============================] - 76s 99ms/step - loss: 0.2124 - val_loss: 0.1535\n",
            "Epoch 43/100\n",
            "774/774 [==============================] - ETA: 0s - loss: 0.2266\n",
            "Epoch 00043: val_loss did not improve from 0.15207\n",
            "774/774 [==============================] - 75s 97ms/step - loss: 0.2266 - val_loss: 0.1723\n",
            "Epoch 44/100\n",
            "774/774 [==============================] - ETA: 0s - loss: 0.2182\n",
            "Epoch 00044: val_loss did not improve from 0.15207\n",
            "774/774 [==============================] - 76s 98ms/step - loss: 0.2182 - val_loss: 0.1737\n",
            "Epoch 45/100\n",
            "774/774 [==============================] - ETA: 0s - loss: 0.2215\n",
            "Epoch 00045: val_loss did not improve from 0.15207\n",
            "774/774 [==============================] - 76s 98ms/step - loss: 0.2215 - val_loss: 0.1609\n",
            "Epoch 46/100\n",
            "774/774 [==============================] - ETA: 0s - loss: 0.2130\n",
            "Epoch 00046: val_loss did not improve from 0.15207\n",
            "774/774 [==============================] - 76s 98ms/step - loss: 0.2130 - val_loss: 0.1846\n",
            "Epoch 47/100\n",
            "774/774 [==============================] - ETA: 0s - loss: 0.2231\n",
            "Epoch 00047: val_loss did not improve from 0.15207\n",
            "774/774 [==============================] - 76s 98ms/step - loss: 0.2231 - val_loss: 0.1604\n",
            "Epoch 48/100\n",
            "774/774 [==============================] - ETA: 0s - loss: 0.2197\n",
            "Epoch 00048: val_loss did not improve from 0.15207\n",
            "774/774 [==============================] - 76s 98ms/step - loss: 0.2197 - val_loss: 0.1663\n",
            "Epoch 49/100\n",
            "774/774 [==============================] - ETA: 0s - loss: 0.2145\n",
            "Epoch 00049: val_loss did not improve from 0.15207\n",
            "774/774 [==============================] - 76s 98ms/step - loss: 0.2145 - val_loss: 0.1769\n",
            "Epoch 50/100\n",
            "774/774 [==============================] - ETA: 0s - loss: 0.2189\n",
            "Epoch 00050: val_loss did not improve from 0.15207\n",
            "774/774 [==============================] - 76s 99ms/step - loss: 0.2189 - val_loss: 0.1721\n",
            "Epoch 51/100\n",
            "774/774 [==============================] - ETA: 0s - loss: 0.2135\n",
            "Epoch 00051: val_loss did not improve from 0.15207\n",
            "774/774 [==============================] - 77s 99ms/step - loss: 0.2135 - val_loss: 0.1829\n",
            "Epoch 52/100\n",
            "774/774 [==============================] - ETA: 0s - loss: 0.2239\n",
            "Epoch 00052: val_loss did not improve from 0.15207\n",
            "774/774 [==============================] - 76s 98ms/step - loss: 0.2239 - val_loss: 0.1735\n",
            "Epoch 53/100\n",
            "774/774 [==============================] - ETA: 0s - loss: 0.2342\n",
            "Epoch 00053: val_loss did not improve from 0.15207\n",
            "774/774 [==============================] - 76s 98ms/step - loss: 0.2342 - val_loss: 0.1982\n",
            "Epoch 54/100\n",
            "774/774 [==============================] - ETA: 0s - loss: 0.2271\n",
            "Epoch 00054: val_loss did not improve from 0.15207\n",
            "774/774 [==============================] - 76s 98ms/step - loss: 0.2271 - val_loss: 0.1657\n",
            "Epoch 55/100\n",
            "774/774 [==============================] - ETA: 0s - loss: 0.2191\n",
            "Epoch 00055: val_loss did not improve from 0.15207\n",
            "774/774 [==============================] - 76s 99ms/step - loss: 0.2191 - val_loss: 0.1808\n",
            "Epoch 56/100\n",
            "774/774 [==============================] - ETA: 0s - loss: 0.2312\n",
            "Epoch 00056: val_loss did not improve from 0.15207\n",
            "774/774 [==============================] - 76s 98ms/step - loss: 0.2312 - val_loss: 0.1625\n",
            "Epoch 57/100\n",
            "774/774 [==============================] - ETA: 0s - loss: 0.2087\n",
            "Epoch 00057: val_loss did not improve from 0.15207\n",
            "774/774 [==============================] - 76s 98ms/step - loss: 0.2087 - val_loss: 0.1581\n",
            "Epoch 58/100\n",
            "774/774 [==============================] - ETA: 0s - loss: 0.2154\n",
            "Epoch 00058: val_loss improved from 0.15207 to 0.14714, saving model to autoencoder.h5\n",
            "774/774 [==============================] - 77s 99ms/step - loss: 0.2154 - val_loss: 0.1471\n",
            "Epoch 59/100\n",
            "774/774 [==============================] - ETA: 0s - loss: 0.2104\n",
            "Epoch 00059: val_loss did not improve from 0.14714\n",
            "774/774 [==============================] - 77s 100ms/step - loss: 0.2104 - val_loss: 0.1523\n",
            "Epoch 60/100\n",
            "774/774 [==============================] - ETA: 0s - loss: 0.2193\n",
            "Epoch 00060: val_loss did not improve from 0.14714\n",
            "774/774 [==============================] - 77s 99ms/step - loss: 0.2193 - val_loss: 0.2260\n",
            "Epoch 61/100\n",
            "774/774 [==============================] - ETA: 0s - loss: 0.2191\n",
            "Epoch 00061: val_loss did not improve from 0.14714\n",
            "774/774 [==============================] - 77s 99ms/step - loss: 0.2191 - val_loss: 0.1741\n",
            "Epoch 62/100\n",
            "774/774 [==============================] - ETA: 0s - loss: 0.2030\n",
            "Epoch 00062: val_loss did not improve from 0.14714\n",
            "774/774 [==============================] - 77s 100ms/step - loss: 0.2030 - val_loss: 0.1830\n",
            "Epoch 63/100\n",
            "774/774 [==============================] - ETA: 0s - loss: 0.2138\n",
            "Epoch 00063: val_loss did not improve from 0.14714\n",
            "774/774 [==============================] - 77s 99ms/step - loss: 0.2138 - val_loss: 0.1784\n",
            "Epoch 64/100\n",
            "774/774 [==============================] - ETA: 0s - loss: 0.2460\n",
            "Epoch 00064: val_loss did not improve from 0.14714\n",
            "774/774 [==============================] - 77s 99ms/step - loss: 0.2460 - val_loss: 0.1906\n",
            "Epoch 65/100\n",
            "774/774 [==============================] - ETA: 0s - loss: 0.2594\n",
            "Epoch 00065: val_loss did not improve from 0.14714\n",
            "774/774 [==============================] - 77s 99ms/step - loss: 0.2594 - val_loss: 0.2275\n",
            "Epoch 66/100\n",
            "774/774 [==============================] - ETA: 0s - loss: 0.2470\n",
            "Epoch 00066: val_loss did not improve from 0.14714\n",
            "774/774 [==============================] - 77s 99ms/step - loss: 0.2470 - val_loss: 0.1900\n",
            "Epoch 67/100\n",
            "774/774 [==============================] - ETA: 0s - loss: 0.2241\n",
            "Epoch 00067: val_loss did not improve from 0.14714\n",
            "774/774 [==============================] - 77s 99ms/step - loss: 0.2241 - val_loss: 0.2163\n",
            "Epoch 68/100\n",
            "774/774 [==============================] - ETA: 0s - loss: 0.2310\n",
            "Epoch 00068: val_loss did not improve from 0.14714\n",
            "774/774 [==============================] - 76s 99ms/step - loss: 0.2310 - val_loss: 0.1639\n",
            "Epoch 69/100\n",
            "774/774 [==============================] - ETA: 0s - loss: 0.2117\n",
            "Epoch 00069: val_loss did not improve from 0.14714\n",
            "774/774 [==============================] - 77s 99ms/step - loss: 0.2117 - val_loss: 0.1770\n",
            "Epoch 70/100\n",
            "774/774 [==============================] - ETA: 0s - loss: 0.2067\n",
            "Epoch 00070: val_loss did not improve from 0.14714\n",
            "774/774 [==============================] - 78s 101ms/step - loss: 0.2067 - val_loss: 0.1842\n",
            "Epoch 71/100\n",
            "774/774 [==============================] - ETA: 0s - loss: 0.2123\n",
            "Epoch 00071: val_loss did not improve from 0.14714\n",
            "774/774 [==============================] - 78s 101ms/step - loss: 0.2123 - val_loss: 0.1642\n",
            "Epoch 72/100\n",
            "774/774 [==============================] - ETA: 0s - loss: 0.2215\n",
            "Epoch 00072: val_loss did not improve from 0.14714\n",
            "774/774 [==============================] - 76s 99ms/step - loss: 0.2215 - val_loss: 0.1748\n",
            "Epoch 73/100\n",
            "774/774 [==============================] - ETA: 0s - loss: 0.2450\n",
            "Epoch 00073: val_loss did not improve from 0.14714\n",
            "774/774 [==============================] - 76s 98ms/step - loss: 0.2450 - val_loss: 0.1688\n",
            "Epoch 74/100\n",
            "774/774 [==============================] - ETA: 0s - loss: 0.2189\n",
            "Epoch 00074: val_loss did not improve from 0.14714\n",
            "774/774 [==============================] - 77s 99ms/step - loss: 0.2189 - val_loss: 0.1579\n",
            "Epoch 75/100\n",
            "774/774 [==============================] - ETA: 0s - loss: 0.2147\n",
            "Epoch 00075: val_loss did not improve from 0.14714\n",
            "774/774 [==============================] - 77s 100ms/step - loss: 0.2147 - val_loss: 0.1895\n",
            "Epoch 76/100\n",
            "774/774 [==============================] - ETA: 0s - loss: 0.2240\n",
            "Epoch 00076: val_loss did not improve from 0.14714\n",
            "774/774 [==============================] - 77s 100ms/step - loss: 0.2240 - val_loss: 0.1678\n",
            "Epoch 77/100\n",
            "774/774 [==============================] - ETA: 0s - loss: 0.2058\n",
            "Epoch 00077: val_loss did not improve from 0.14714\n",
            "774/774 [==============================] - 77s 99ms/step - loss: 0.2058 - val_loss: 0.1646\n",
            "Epoch 78/100\n",
            "774/774 [==============================] - ETA: 0s - loss: 0.2046\n",
            "Epoch 00078: val_loss did not improve from 0.14714\n",
            "774/774 [==============================] - 77s 100ms/step - loss: 0.2046 - val_loss: 0.1518\n",
            "Epoch 79/100\n",
            "774/774 [==============================] - ETA: 0s - loss: 0.2130\n",
            "Epoch 00079: val_loss did not improve from 0.14714\n",
            "774/774 [==============================] - 77s 100ms/step - loss: 0.2130 - val_loss: 0.2065\n",
            "Epoch 80/100\n",
            "774/774 [==============================] - ETA: 0s - loss: 0.2270\n",
            "Epoch 00080: val_loss did not improve from 0.14714\n",
            "774/774 [==============================] - 77s 100ms/step - loss: 0.2270 - val_loss: 0.1717\n",
            "Epoch 81/100\n",
            "774/774 [==============================] - ETA: 0s - loss: 0.2688\n",
            "Epoch 00081: val_loss did not improve from 0.14714\n",
            "774/774 [==============================] - 77s 99ms/step - loss: 0.2688 - val_loss: 0.1826\n",
            "Epoch 82/100\n",
            "774/774 [==============================] - ETA: 0s - loss: 0.2607\n",
            "Epoch 00082: val_loss did not improve from 0.14714\n",
            "774/774 [==============================] - 76s 98ms/step - loss: 0.2607 - val_loss: 0.1735\n",
            "Epoch 83/100\n",
            "774/774 [==============================] - ETA: 0s - loss: 0.2839\n",
            "Epoch 00083: val_loss did not improve from 0.14714\n",
            "774/774 [==============================] - 77s 99ms/step - loss: 0.2839 - val_loss: 0.1748\n",
            "Epoch 84/100\n",
            "774/774 [==============================] - ETA: 0s - loss: 0.2681\n",
            "Epoch 00084: val_loss did not improve from 0.14714\n",
            "774/774 [==============================] - 76s 99ms/step - loss: 0.2681 - val_loss: 0.1900\n",
            "Epoch 85/100\n",
            "774/774 [==============================] - ETA: 0s - loss: 0.2222\n",
            "Epoch 00085: val_loss did not improve from 0.14714\n",
            "774/774 [==============================] - 77s 99ms/step - loss: 0.2222 - val_loss: 0.1641\n",
            "Epoch 86/100\n",
            "774/774 [==============================] - ETA: 0s - loss: 0.2142\n",
            "Epoch 00086: val_loss did not improve from 0.14714\n",
            "774/774 [==============================] - 77s 99ms/step - loss: 0.2142 - val_loss: 0.1566\n",
            "Epoch 87/100\n",
            "774/774 [==============================] - ETA: 0s - loss: 0.2256\n",
            "Epoch 00087: val_loss did not improve from 0.14714\n",
            "774/774 [==============================] - 77s 100ms/step - loss: 0.2256 - val_loss: 0.1644\n",
            "Epoch 88/100\n",
            "774/774 [==============================] - ETA: 0s - loss: 0.2264\n",
            "Epoch 00088: val_loss did not improve from 0.14714\n",
            "774/774 [==============================] - 77s 99ms/step - loss: 0.2264 - val_loss: 0.1676\n",
            "Epoch 89/100\n",
            "774/774 [==============================] - ETA: 0s - loss: 0.2216\n",
            "Epoch 00089: val_loss did not improve from 0.14714\n",
            "774/774 [==============================] - 77s 99ms/step - loss: 0.2216 - val_loss: 0.1698\n",
            "Epoch 90/100\n",
            "774/774 [==============================] - ETA: 0s - loss: 0.2499\n",
            "Epoch 00090: val_loss did not improve from 0.14714\n",
            "774/774 [==============================] - 77s 100ms/step - loss: 0.2499 - val_loss: 0.1602\n",
            "Epoch 91/100\n",
            "774/774 [==============================] - ETA: 0s - loss: 0.2251\n",
            "Epoch 00091: val_loss did not improve from 0.14714\n",
            "774/774 [==============================] - 77s 99ms/step - loss: 0.2251 - val_loss: 0.2013\n",
            "Epoch 92/100\n",
            "774/774 [==============================] - ETA: 0s - loss: 0.2517\n",
            "Epoch 00092: val_loss did not improve from 0.14714\n",
            "774/774 [==============================] - 77s 99ms/step - loss: 0.2517 - val_loss: 0.1725\n",
            "Epoch 93/100\n",
            "774/774 [==============================] - ETA: 0s - loss: 0.4552\n",
            "Epoch 00093: val_loss did not improve from 0.14714\n",
            "774/774 [==============================] - 78s 100ms/step - loss: 0.4552 - val_loss: 0.2062\n",
            "Epoch 94/100\n",
            "774/774 [==============================] - ETA: 0s - loss: 0.2607\n",
            "Epoch 00094: val_loss did not improve from 0.14714\n",
            "774/774 [==============================] - 77s 100ms/step - loss: 0.2607 - val_loss: 0.1874\n",
            "Epoch 95/100\n",
            "774/774 [==============================] - ETA: 0s - loss: 0.2346\n",
            "Epoch 00095: val_loss did not improve from 0.14714\n",
            "774/774 [==============================] - 77s 100ms/step - loss: 0.2346 - val_loss: 0.1817\n",
            "Epoch 96/100\n",
            "774/774 [==============================] - ETA: 0s - loss: 0.2678\n",
            "Epoch 00096: val_loss did not improve from 0.14714\n",
            "774/774 [==============================] - 77s 100ms/step - loss: 0.2678 - val_loss: 0.1680\n",
            "Epoch 97/100\n",
            "774/774 [==============================] - ETA: 0s - loss: 0.2312\n",
            "Epoch 00097: val_loss did not improve from 0.14714\n",
            "774/774 [==============================] - 77s 99ms/step - loss: 0.2312 - val_loss: 0.1669\n",
            "Epoch 98/100\n",
            "774/774 [==============================] - ETA: 0s - loss: 0.2273\n",
            "Epoch 00098: val_loss did not improve from 0.14714\n",
            "774/774 [==============================] - 76s 99ms/step - loss: 0.2273 - val_loss: 0.1688\n",
            "Epoch 99/100\n",
            "774/774 [==============================] - ETA: 0s - loss: 0.2334\n",
            "Epoch 00099: val_loss did not improve from 0.14714\n",
            "774/774 [==============================] - 77s 99ms/step - loss: 0.2334 - val_loss: 0.1659\n",
            "Epoch 100/100\n",
            "774/774 [==============================] - ETA: 0s - loss: 0.2228\n",
            "Epoch 00100: val_loss did not improve from 0.14714\n",
            "774/774 [==============================] - 76s 98ms/step - loss: 0.2228 - val_loss: 0.1673\n"
          ],
          "name": "stdout"
        }
      ]
    },
    {
      "cell_type": "code",
      "metadata": {
        "id": "dwuF08LGjPQQ",
        "outputId": "9db08508-c514-4659-8ed1-064956e2e62e",
        "colab": {
          "base_uri": "https://localhost:8080/",
          "height": 34
        }
      },
      "source": [
        "# restoring the best model\n",
        "autoencoder_loaded = tf.keras.models.load_model('autoencoder.h5')"
      ],
      "execution_count": null,
      "outputs": [
        {
          "output_type": "stream",
          "text": [
            "WARNING:tensorflow:Error in loading the saved optimizer state. As a result, your model is starting with a freshly initialized optimizer.\n"
          ],
          "name": "stdout"
        }
      ]
    },
    {
      "cell_type": "markdown",
      "metadata": {
        "id": "_XQAa_G1Becx"
      },
      "source": [
        "## Testing"
      ]
    },
    {
      "cell_type": "markdown",
      "metadata": {
        "id": "RCpzf7oUF6ai"
      },
      "source": [
        "The model is trained and the model with best parameters is restored. Now we have to load the test set and perform the same preprocessing steps done to the training data.\n",
        "\n",
        "We must use the same scaler and PCA objects that were fitted to the training data. This is done to maintain the consistency of transformation betwwen the train and test data."
      ]
    },
    {
      "cell_type": "markdown",
      "metadata": {
        "id": "3UCvQv9OKk5S"
      },
      "source": [
        "### Test data pre-processing"
      ]
    },
    {
      "cell_type": "code",
      "metadata": {
        "id": "PkuSDyZIBGW-",
        "outputId": "37ad20d0-94b0-4e96-8f15-e5945e46e036",
        "colab": {
          "base_uri": "https://localhost:8080/",
          "height": 224
        }
      },
      "source": [
        "# loading the test dataframe\n",
        "test_df = pd.read_csv(TEST_DATA_PATH, header=None, names=col_names_cleaned)\n",
        "test_df.head()"
      ],
      "execution_count": null,
      "outputs": [
        {
          "output_type": "execute_result",
          "data": {
            "text/html": [
              "<div>\n",
              "<style scoped>\n",
              "    .dataframe tbody tr th:only-of-type {\n",
              "        vertical-align: middle;\n",
              "    }\n",
              "\n",
              "    .dataframe tbody tr th {\n",
              "        vertical-align: top;\n",
              "    }\n",
              "\n",
              "    .dataframe thead th {\n",
              "        text-align: right;\n",
              "    }\n",
              "</style>\n",
              "<table border=\"1\" class=\"dataframe\">\n",
              "  <thead>\n",
              "    <tr style=\"text-align: right;\">\n",
              "      <th></th>\n",
              "      <th>duration</th>\n",
              "      <th>protocol_type</th>\n",
              "      <th>service</th>\n",
              "      <th>flag</th>\n",
              "      <th>src_bytes</th>\n",
              "      <th>dst_bytes</th>\n",
              "      <th>land</th>\n",
              "      <th>wrong_fragment</th>\n",
              "      <th>urgent</th>\n",
              "      <th>hot</th>\n",
              "      <th>num_failed_logins</th>\n",
              "      <th>logged_in</th>\n",
              "      <th>num_compromised</th>\n",
              "      <th>root_shell</th>\n",
              "      <th>su_attempted</th>\n",
              "      <th>num_root</th>\n",
              "      <th>num_file_creations</th>\n",
              "      <th>num_shells</th>\n",
              "      <th>num_access_files</th>\n",
              "      <th>num_outbound_cmds</th>\n",
              "      <th>is_host_login</th>\n",
              "      <th>is_guest_login</th>\n",
              "      <th>count</th>\n",
              "      <th>srv_count</th>\n",
              "      <th>serror_rate</th>\n",
              "      <th>srv_serror_rate</th>\n",
              "      <th>rerror_rate</th>\n",
              "      <th>srv_rerror_rate</th>\n",
              "      <th>same_srv_rate</th>\n",
              "      <th>diff_srv_rate</th>\n",
              "      <th>srv_diff_host_rate</th>\n",
              "      <th>dst_host_count</th>\n",
              "      <th>dst_host_srv_count</th>\n",
              "      <th>dst_host_same_srv_rate</th>\n",
              "      <th>dst_host_diff_srv_rate</th>\n",
              "      <th>dst_host_same_src_port_rate</th>\n",
              "      <th>dst_host_srv_diff_host_rate</th>\n",
              "      <th>dst_host_serror_rate</th>\n",
              "      <th>dst_host_srv_serror_rate</th>\n",
              "      <th>dst_host_rerror_rate</th>\n",
              "      <th>dst_host_srv_rerror_rate</th>\n",
              "      <th>result</th>\n",
              "    </tr>\n",
              "  </thead>\n",
              "  <tbody>\n",
              "    <tr>\n",
              "      <th>0</th>\n",
              "      <td>0</td>\n",
              "      <td>udp</td>\n",
              "      <td>private</td>\n",
              "      <td>SF</td>\n",
              "      <td>105</td>\n",
              "      <td>146</td>\n",
              "      <td>0</td>\n",
              "      <td>0</td>\n",
              "      <td>0</td>\n",
              "      <td>0</td>\n",
              "      <td>0</td>\n",
              "      <td>0</td>\n",
              "      <td>0</td>\n",
              "      <td>0</td>\n",
              "      <td>0</td>\n",
              "      <td>0</td>\n",
              "      <td>0</td>\n",
              "      <td>0</td>\n",
              "      <td>0</td>\n",
              "      <td>0</td>\n",
              "      <td>0</td>\n",
              "      <td>0</td>\n",
              "      <td>1</td>\n",
              "      <td>1</td>\n",
              "      <td>0.0</td>\n",
              "      <td>0.0</td>\n",
              "      <td>0.0</td>\n",
              "      <td>0.0</td>\n",
              "      <td>1.0</td>\n",
              "      <td>0.0</td>\n",
              "      <td>0.0</td>\n",
              "      <td>255</td>\n",
              "      <td>254</td>\n",
              "      <td>1.0</td>\n",
              "      <td>0.01</td>\n",
              "      <td>0.00</td>\n",
              "      <td>0.0</td>\n",
              "      <td>0.0</td>\n",
              "      <td>0.0</td>\n",
              "      <td>0.0</td>\n",
              "      <td>0.0</td>\n",
              "      <td>normal.</td>\n",
              "    </tr>\n",
              "    <tr>\n",
              "      <th>1</th>\n",
              "      <td>0</td>\n",
              "      <td>udp</td>\n",
              "      <td>private</td>\n",
              "      <td>SF</td>\n",
              "      <td>105</td>\n",
              "      <td>146</td>\n",
              "      <td>0</td>\n",
              "      <td>0</td>\n",
              "      <td>0</td>\n",
              "      <td>0</td>\n",
              "      <td>0</td>\n",
              "      <td>0</td>\n",
              "      <td>0</td>\n",
              "      <td>0</td>\n",
              "      <td>0</td>\n",
              "      <td>0</td>\n",
              "      <td>0</td>\n",
              "      <td>0</td>\n",
              "      <td>0</td>\n",
              "      <td>0</td>\n",
              "      <td>0</td>\n",
              "      <td>0</td>\n",
              "      <td>1</td>\n",
              "      <td>1</td>\n",
              "      <td>0.0</td>\n",
              "      <td>0.0</td>\n",
              "      <td>0.0</td>\n",
              "      <td>0.0</td>\n",
              "      <td>1.0</td>\n",
              "      <td>0.0</td>\n",
              "      <td>0.0</td>\n",
              "      <td>255</td>\n",
              "      <td>254</td>\n",
              "      <td>1.0</td>\n",
              "      <td>0.01</td>\n",
              "      <td>0.00</td>\n",
              "      <td>0.0</td>\n",
              "      <td>0.0</td>\n",
              "      <td>0.0</td>\n",
              "      <td>0.0</td>\n",
              "      <td>0.0</td>\n",
              "      <td>normal.</td>\n",
              "    </tr>\n",
              "    <tr>\n",
              "      <th>2</th>\n",
              "      <td>0</td>\n",
              "      <td>udp</td>\n",
              "      <td>private</td>\n",
              "      <td>SF</td>\n",
              "      <td>105</td>\n",
              "      <td>146</td>\n",
              "      <td>0</td>\n",
              "      <td>0</td>\n",
              "      <td>0</td>\n",
              "      <td>0</td>\n",
              "      <td>0</td>\n",
              "      <td>0</td>\n",
              "      <td>0</td>\n",
              "      <td>0</td>\n",
              "      <td>0</td>\n",
              "      <td>0</td>\n",
              "      <td>0</td>\n",
              "      <td>0</td>\n",
              "      <td>0</td>\n",
              "      <td>0</td>\n",
              "      <td>0</td>\n",
              "      <td>0</td>\n",
              "      <td>1</td>\n",
              "      <td>1</td>\n",
              "      <td>0.0</td>\n",
              "      <td>0.0</td>\n",
              "      <td>0.0</td>\n",
              "      <td>0.0</td>\n",
              "      <td>1.0</td>\n",
              "      <td>0.0</td>\n",
              "      <td>0.0</td>\n",
              "      <td>255</td>\n",
              "      <td>254</td>\n",
              "      <td>1.0</td>\n",
              "      <td>0.01</td>\n",
              "      <td>0.00</td>\n",
              "      <td>0.0</td>\n",
              "      <td>0.0</td>\n",
              "      <td>0.0</td>\n",
              "      <td>0.0</td>\n",
              "      <td>0.0</td>\n",
              "      <td>normal.</td>\n",
              "    </tr>\n",
              "    <tr>\n",
              "      <th>3</th>\n",
              "      <td>0</td>\n",
              "      <td>udp</td>\n",
              "      <td>private</td>\n",
              "      <td>SF</td>\n",
              "      <td>105</td>\n",
              "      <td>146</td>\n",
              "      <td>0</td>\n",
              "      <td>0</td>\n",
              "      <td>0</td>\n",
              "      <td>0</td>\n",
              "      <td>0</td>\n",
              "      <td>0</td>\n",
              "      <td>0</td>\n",
              "      <td>0</td>\n",
              "      <td>0</td>\n",
              "      <td>0</td>\n",
              "      <td>0</td>\n",
              "      <td>0</td>\n",
              "      <td>0</td>\n",
              "      <td>0</td>\n",
              "      <td>0</td>\n",
              "      <td>0</td>\n",
              "      <td>2</td>\n",
              "      <td>2</td>\n",
              "      <td>0.0</td>\n",
              "      <td>0.0</td>\n",
              "      <td>0.0</td>\n",
              "      <td>0.0</td>\n",
              "      <td>1.0</td>\n",
              "      <td>0.0</td>\n",
              "      <td>0.0</td>\n",
              "      <td>255</td>\n",
              "      <td>254</td>\n",
              "      <td>1.0</td>\n",
              "      <td>0.01</td>\n",
              "      <td>0.00</td>\n",
              "      <td>0.0</td>\n",
              "      <td>0.0</td>\n",
              "      <td>0.0</td>\n",
              "      <td>0.0</td>\n",
              "      <td>0.0</td>\n",
              "      <td>snmpgetattack.</td>\n",
              "    </tr>\n",
              "    <tr>\n",
              "      <th>4</th>\n",
              "      <td>0</td>\n",
              "      <td>udp</td>\n",
              "      <td>private</td>\n",
              "      <td>SF</td>\n",
              "      <td>105</td>\n",
              "      <td>146</td>\n",
              "      <td>0</td>\n",
              "      <td>0</td>\n",
              "      <td>0</td>\n",
              "      <td>0</td>\n",
              "      <td>0</td>\n",
              "      <td>0</td>\n",
              "      <td>0</td>\n",
              "      <td>0</td>\n",
              "      <td>0</td>\n",
              "      <td>0</td>\n",
              "      <td>0</td>\n",
              "      <td>0</td>\n",
              "      <td>0</td>\n",
              "      <td>0</td>\n",
              "      <td>0</td>\n",
              "      <td>0</td>\n",
              "      <td>2</td>\n",
              "      <td>2</td>\n",
              "      <td>0.0</td>\n",
              "      <td>0.0</td>\n",
              "      <td>0.0</td>\n",
              "      <td>0.0</td>\n",
              "      <td>1.0</td>\n",
              "      <td>0.0</td>\n",
              "      <td>0.0</td>\n",
              "      <td>255</td>\n",
              "      <td>254</td>\n",
              "      <td>1.0</td>\n",
              "      <td>0.01</td>\n",
              "      <td>0.01</td>\n",
              "      <td>0.0</td>\n",
              "      <td>0.0</td>\n",
              "      <td>0.0</td>\n",
              "      <td>0.0</td>\n",
              "      <td>0.0</td>\n",
              "      <td>snmpgetattack.</td>\n",
              "    </tr>\n",
              "  </tbody>\n",
              "</table>\n",
              "</div>"
            ],
            "text/plain": [
              "   duration protocol_type  ... dst_host_srv_rerror_rate          result\n",
              "0         0           udp  ...                      0.0         normal.\n",
              "1         0           udp  ...                      0.0         normal.\n",
              "2         0           udp  ...                      0.0         normal.\n",
              "3         0           udp  ...                      0.0  snmpgetattack.\n",
              "4         0           udp  ...                      0.0  snmpgetattack.\n",
              "\n",
              "[5 rows x 42 columns]"
            ]
          },
          "metadata": {
            "tags": []
          },
          "execution_count": 28
        }
      ]
    },
    {
      "cell_type": "code",
      "metadata": {
        "jupyter": {
          "source_hidden": true
        },
        "id": "_y_wiNL3gbw9"
      },
      "source": [
        "# slicing only the rows belonging to http service\n",
        "test_df_http = test_df[test_df['service']=='http']"
      ],
      "execution_count": null,
      "outputs": []
    },
    {
      "cell_type": "markdown",
      "metadata": {
        "id": "_RHguPI3MTt0"
      },
      "source": [
        "While extracting windows out of test data, we a particular eindow to be anomalous if there are one or more anomalous samples in the window."
      ]
    },
    {
      "cell_type": "code",
      "metadata": {
        "id": "8_0HF0TOnT52"
      },
      "source": [
        "# binary indicator to represent anomalies\n",
        "status = pd.Series([0 if i=='normal.' else 1 for i in test_df_http['result']])\n",
        "test_labels = [1 if np.sum(status[i:i+window_size])>0 else 0 for i in range(0, len(status)-window_size+1, stride)]"
      ],
      "execution_count": null,
      "outputs": []
    },
    {
      "cell_type": "code",
      "metadata": {
        "jupyter": {
          "outputs_hidden": true,
          "source_hidden": true
        },
        "id": "ojEj89Bqgbw_",
        "outputId": "9a35742f-9f41-4693-a4db-377bf15d0b7e",
        "colab": {
          "base_uri": "https://localhost:8080/",
          "height": 102
        }
      },
      "source": [
        "# dropping catrgorical columns\n",
        "test_df_http.drop(['protocol_type', 'service', 'flag', 'land', 'logged_in', 'is_host_login', 'is_guest_login', 'result'], axis=1, inplace=True)\n",
        "# dropping columns with no std deviation\n",
        "test_df_http.drop(['wrong_fragment', 'urgent', 'num_failed_logins', 'su_attempted', 'num_file_creations', 'num_outbound_cmds'], axis=1, inplace=True)"
      ],
      "execution_count": null,
      "outputs": [
        {
          "output_type": "stream",
          "text": [
            "/usr/local/lib/python3.6/dist-packages/pandas/core/frame.py:3997: SettingWithCopyWarning: \n",
            "A value is trying to be set on a copy of a slice from a DataFrame\n",
            "\n",
            "See the caveats in the documentation: https://pandas.pydata.org/pandas-docs/stable/user_guide/indexing.html#returning-a-view-versus-a-copy\n",
            "  errors=errors,\n"
          ],
          "name": "stderr"
        }
      ]
    },
    {
      "cell_type": "code",
      "metadata": {
        "id": "wExv3_9bkyl5"
      },
      "source": [
        "test_df_http = pd.DataFrame(scaler.transform(test_df_http), columns=test_df_http.columns)"
      ],
      "execution_count": null,
      "outputs": []
    },
    {
      "cell_type": "code",
      "metadata": {
        "id": "DM1Abq_3gbxB",
        "outputId": "996e1ab3-a014-4974-a977-f5b3bde4b141",
        "colab": {
          "base_uri": "https://localhost:8080/",
          "height": 204
        }
      },
      "source": [
        "test_df_http_pca = pd.DataFrame(pca.transform(test_df_http), columns=pca_cols)\n",
        "test_df_http_pca.head()"
      ],
      "execution_count": null,
      "outputs": [
        {
          "output_type": "execute_result",
          "data": {
            "text/html": [
              "<div>\n",
              "<style scoped>\n",
              "    .dataframe tbody tr th:only-of-type {\n",
              "        vertical-align: middle;\n",
              "    }\n",
              "\n",
              "    .dataframe tbody tr th {\n",
              "        vertical-align: top;\n",
              "    }\n",
              "\n",
              "    .dataframe thead th {\n",
              "        text-align: right;\n",
              "    }\n",
              "</style>\n",
              "<table border=\"1\" class=\"dataframe\">\n",
              "  <thead>\n",
              "    <tr style=\"text-align: right;\">\n",
              "      <th></th>\n",
              "      <th>PCA_0</th>\n",
              "      <th>PCA_1</th>\n",
              "      <th>PCA_2</th>\n",
              "      <th>PCA_3</th>\n",
              "      <th>PCA_4</th>\n",
              "      <th>PCA_5</th>\n",
              "      <th>PCA_6</th>\n",
              "      <th>PCA_7</th>\n",
              "      <th>PCA_8</th>\n",
              "      <th>PCA_9</th>\n",
              "      <th>PCA_10</th>\n",
              "      <th>PCA_11</th>\n",
              "      <th>PCA_12</th>\n",
              "      <th>PCA_13</th>\n",
              "    </tr>\n",
              "  </thead>\n",
              "  <tbody>\n",
              "    <tr>\n",
              "      <th>0</th>\n",
              "      <td>0.447803</td>\n",
              "      <td>-0.037561</td>\n",
              "      <td>-0.071583</td>\n",
              "      <td>-0.519532</td>\n",
              "      <td>0.682330</td>\n",
              "      <td>-0.205302</td>\n",
              "      <td>-0.274752</td>\n",
              "      <td>-0.070554</td>\n",
              "      <td>0.002780</td>\n",
              "      <td>-0.001089</td>\n",
              "      <td>-0.081894</td>\n",
              "      <td>0.064140</td>\n",
              "      <td>0.286993</td>\n",
              "      <td>-0.711321</td>\n",
              "    </tr>\n",
              "    <tr>\n",
              "      <th>1</th>\n",
              "      <td>-0.373923</td>\n",
              "      <td>11.626108</td>\n",
              "      <td>-0.761246</td>\n",
              "      <td>0.648020</td>\n",
              "      <td>-0.758655</td>\n",
              "      <td>-1.514405</td>\n",
              "      <td>3.321931</td>\n",
              "      <td>-0.439838</td>\n",
              "      <td>-0.056738</td>\n",
              "      <td>-0.015726</td>\n",
              "      <td>-0.136585</td>\n",
              "      <td>-0.650677</td>\n",
              "      <td>0.658160</td>\n",
              "      <td>-0.324815</td>\n",
              "    </tr>\n",
              "    <tr>\n",
              "      <th>2</th>\n",
              "      <td>0.751391</td>\n",
              "      <td>-0.036574</td>\n",
              "      <td>0.095399</td>\n",
              "      <td>-0.642058</td>\n",
              "      <td>0.691667</td>\n",
              "      <td>-0.157171</td>\n",
              "      <td>-0.723175</td>\n",
              "      <td>0.283788</td>\n",
              "      <td>-0.012771</td>\n",
              "      <td>-0.007231</td>\n",
              "      <td>-0.078363</td>\n",
              "      <td>0.380921</td>\n",
              "      <td>0.426132</td>\n",
              "      <td>-0.605115</td>\n",
              "    </tr>\n",
              "    <tr>\n",
              "      <th>3</th>\n",
              "      <td>1.099520</td>\n",
              "      <td>-0.256337</td>\n",
              "      <td>-0.075035</td>\n",
              "      <td>0.127901</td>\n",
              "      <td>-0.169646</td>\n",
              "      <td>0.016458</td>\n",
              "      <td>-0.299179</td>\n",
              "      <td>0.018593</td>\n",
              "      <td>0.001819</td>\n",
              "      <td>-0.005264</td>\n",
              "      <td>-0.044151</td>\n",
              "      <td>0.120868</td>\n",
              "      <td>0.233207</td>\n",
              "      <td>-0.385393</td>\n",
              "    </tr>\n",
              "    <tr>\n",
              "      <th>4</th>\n",
              "      <td>1.415546</td>\n",
              "      <td>-0.428898</td>\n",
              "      <td>-0.239097</td>\n",
              "      <td>0.787054</td>\n",
              "      <td>-0.880944</td>\n",
              "      <td>0.180008</td>\n",
              "      <td>0.052757</td>\n",
              "      <td>-0.087440</td>\n",
              "      <td>0.008501</td>\n",
              "      <td>-0.001091</td>\n",
              "      <td>0.021312</td>\n",
              "      <td>-0.060214</td>\n",
              "      <td>-0.194313</td>\n",
              "      <td>0.196281</td>\n",
              "    </tr>\n",
              "  </tbody>\n",
              "</table>\n",
              "</div>"
            ],
            "text/plain": [
              "      PCA_0      PCA_1     PCA_2  ...    PCA_11    PCA_12    PCA_13\n",
              "0  0.447803  -0.037561 -0.071583  ...  0.064140  0.286993 -0.711321\n",
              "1 -0.373923  11.626108 -0.761246  ... -0.650677  0.658160 -0.324815\n",
              "2  0.751391  -0.036574  0.095399  ...  0.380921  0.426132 -0.605115\n",
              "3  1.099520  -0.256337 -0.075035  ...  0.120868  0.233207 -0.385393\n",
              "4  1.415546  -0.428898 -0.239097  ... -0.060214 -0.194313  0.196281\n",
              "\n",
              "[5 rows x 14 columns]"
            ]
          },
          "metadata": {
            "tags": []
          },
          "execution_count": 66
        }
      ]
    },
    {
      "cell_type": "code",
      "metadata": {
        "id": "OCgCp-o5gbxD",
        "outputId": "5ea72150-f4f2-4bb8-cbf8-4ee941f366fd",
        "colab": {
          "base_uri": "https://localhost:8080/",
          "height": 34
        }
      },
      "source": [
        "test_windows = get_windows(test_df_http_pca, window_size=10, stride=10)"
      ],
      "execution_count": null,
      "outputs": [
        {
          "output_type": "stream",
          "text": [
            "100%|██████████| 4123/4123 [00:00<00:00, 7522.05it/s]\n"
          ],
          "name": "stderr"
        }
      ]
    },
    {
      "cell_type": "code",
      "metadata": {
        "id": "VlQCkChFgbxG"
      },
      "source": [
        "test_windows_pred = autoencoder_loaded.predict(test_windows)"
      ],
      "execution_count": null,
      "outputs": []
    },
    {
      "cell_type": "markdown",
      "metadata": {
        "id": "zcpSiHz9IVQX"
      },
      "source": [
        "The reconstruction error is used a metric to predict the likelyhood of a sample/instance being anomalous.\n",
        "\n",
        "The reason beehind this is that we used only the normal data for reconstruction using the autoencoder. During inference, if the model encounters an anomalous sample, the encoder compresses it to a latent representation that is similar to that of normal data (because it has been trained to only compress normal data). This latent representation misses the information related to anomalous charactersitics and the decoder reconstructs this as a normal sample resulting in large reconstruction error.\n",
        "\n",
        "After calculating reconstruction errors for all the samples in the test data, we can scale them to [0, 1] range called the anomaly score. A threshold can be set on this anomaly score above which the sample is identified as anomalous."
      ]
    },
    {
      "cell_type": "code",
      "metadata": {
        "id": "Qm-Vvl4WqM-2"
      },
      "source": [
        "# calculating reconstruction error for each sample\n",
        "# implemented in tensorflow for faster execution when gpu is available\n",
        "\n",
        "def get_recon_erros(true_windows, pred_windows):\n",
        "  recon_errors = []\n",
        "\n",
        "  def cond(y_true, y_pred, i, iters):\n",
        "    return tf.less(i, iters)\n",
        "\n",
        "  def body(y_true, y_pred, i, iters):\n",
        "    tensor_for_error = tf.math.subtract(tf.slice(y_true, [i, 0, 0], [1, -1, -1]), tf.slice(y_pred, [i, 0, 0], [1, -1, -1]))\n",
        "    tensor_for_error = tf.reshape(tensor_for_error, [window_size, pca.n_components_])\n",
        "    recon_error = tf.math.reduce_mean(tf.norm(tensor_for_error, ord='euclidean', axis=1))\n",
        "    # this is the list initialized above\n",
        "    recon_errors.append(recon_error.numpy())\n",
        "    return [y_true, y_pred, tf.add(i, 1), iters]\n",
        "\n",
        "  iters = tf.constant(len(true_windows))\n",
        "\n",
        "  result = tf.while_loop(cond, body, [tf.constant(true_windows.astype(np.float32)), tf.constant(pred_windows.astype(np.float32)), 0, iters])\n",
        "  return recon_errors"
      ],
      "execution_count": null,
      "outputs": []
    },
    {
      "cell_type": "code",
      "metadata": {
        "id": "EbSx_BMCCix_"
      },
      "source": [
        "recon_errors = get_recon_erros(test_windows, test_windows_pred)\n",
        "recon_errors = np.array(recon_errors).reshape(-1, 1)"
      ],
      "execution_count": null,
      "outputs": []
    },
    {
      "cell_type": "code",
      "metadata": {
        "id": "xKCF3hxW4ADu"
      },
      "source": [
        "# scaling the reconstruction errors set to [0, 1] scale\n",
        "mm_scaler = MinMaxScaler()\n",
        "anomaly_scores = mm_scaler.fit_transform(recon_errors).flatten()"
      ],
      "execution_count": null,
      "outputs": []
    },
    {
      "cell_type": "markdown",
      "metadata": {
        "id": "q-dJ6_gwNFD1"
      },
      "source": [
        "Looking at the plot below, we can see that the model is able to succesfully identify most of the anomalies i.e the samples where both the blue and red lines are high."
      ]
    },
    {
      "cell_type": "code",
      "metadata": {
        "id": "eKcwzofZq0uQ",
        "outputId": "9364d5b7-892a-4eba-837a-1359d8eb1195",
        "colab": {
          "base_uri": "https://localhost:8080/",
          "height": 606
        }
      },
      "source": [
        "plt.figure(figsize=(20, 10))\n",
        "plt.plot(test_labels, c='blue', label='original')\n",
        "plt.plot(anomaly_scores, c='red', label='predicted')\n",
        "plt.yticks(np.arange(0, 1.1, 0.1))\n",
        "plt.xlabel('samples')\n",
        "plt.ylabel('anomaly score')\n",
        "plt.grid()\n",
        "plt.legend()\n",
        "plt.show()"
      ],
      "execution_count": null,
      "outputs": [
        {
          "output_type": "display_data",
          "data": {
            "image/png": "[encoded data removed]",
            "text/plain": [
              "<Figure size 1440x720 with 1 Axes>"
            ]
          },
          "metadata": {
            "tags": [],
            "needs_background": "light"
          }
        }
      ]
    },
    {
      "cell_type": "markdown",
      "metadata": {
        "id": "-MxoYis9WRGd"
      },
      "source": [
        "### Measuring the effectiveness of classifier"
      ]
    },
    {
      "cell_type": "code",
      "metadata": {
        "id": "bMFfLsWN3bFx"
      },
      "source": [
        "fpr, tpr, thresholds = roc_curve(test_labels, anomaly_scores)"
      ],
      "execution_count": null,
      "outputs": []
    },
    {
      "cell_type": "code",
      "metadata": {
        "id": "zz3mfFTQ3UmY",
        "outputId": "c14a6c04-8be3-41f2-bced-786f596a1ff7",
        "colab": {
          "base_uri": "https://localhost:8080/",
          "height": 34
        }
      },
      "source": [
        "auc = roc_auc_score(test_labels, anomaly_scores)\n",
        "print('Area under ROC curve: {}'.format(auc))"
      ],
      "execution_count": null,
      "outputs": [
        {
          "output_type": "stream",
          "text": [
            "Area under ROC curve: 0.9981452339326364\n"
          ],
          "name": "stdout"
        }
      ]
    },
    {
      "cell_type": "markdown",
      "metadata": {
        "id": "fwCuR1AeSEoc"
      },
      "source": [
        "The area under the curve is almost equal to 1 signifying the effectiveness of the classifier."
      ]
    },
    {
      "cell_type": "code",
      "metadata": {
        "id": "50m-2vzTZGd9",
        "outputId": "065626ab-0f0a-4167-ee5a-b4fa68e9c076",
        "colab": {
          "base_uri": "https://localhost:8080/",
          "height": 350
        }
      },
      "source": [
        "plt.figure(figsize=(10,5))\n",
        "plt.plot([0, 1], [0, 1], color = 'black', linestyle='--')\n",
        "plt.plot(fpr, tpr, label='AUC={}'.format(auc))\n",
        "plt.grid()\n",
        "plt.xlabel('FPR')\n",
        "plt.ylabel('TPR')\n",
        "plt.legend()\n",
        "plt.title('ROC')\n",
        "plt.show()"
      ],
      "execution_count": null,
      "outputs": [
        {
          "output_type": "display_data",
          "data": {
            "image/png": "[encoded data removed]",
            "text/plain": [
              "<Figure size 720x360 with 1 Axes>"
            ]
          },
          "metadata": {
            "tags": [],
            "needs_background": "light"
          }
        }
      ]
    },
    {
      "cell_type": "markdown",
      "metadata": {
        "id": "eRp347ZzMKoI"
      },
      "source": [
        "### Identifying anomalies in test set"
      ]
    },
    {
      "cell_type": "code",
      "metadata": {
        "id": "1u_S-1ZdbdMG"
      },
      "source": [
        "anomaly_combinations = [(anomaly_scores>i).astype(np.int32) for i in thresholds]\n",
        "f1_scores = [f1_score(test_labels, i) for i in anomaly_combinations]"
      ],
      "execution_count": null,
      "outputs": []
    },
    {
      "cell_type": "code",
      "metadata": {
        "id": "VnBeobQjgxS-",
        "outputId": "ef42c033-5c45-4c13-99a1-476de3c18247",
        "colab": {
          "base_uri": "https://localhost:8080/",
          "height": 350
        }
      },
      "source": [
        "plt.figure(figsize=(10, 5))\n",
        "plt.plot(thresholds, f1_scores)\n",
        "plt.grid()\n",
        "plt.xlabel('Thresholds')\n",
        "plt.ylabel('F-1 Score')\n",
        "plt.title('F-1 Score vs Thresholds')\n",
        "plt.show()"
      ],
      "execution_count": null,
      "outputs": [
        {
          "output_type": "display_data",
          "data": {
            "image/png": "[encoded data removed]",
            "text/plain": [
              "<Figure size 720x360 with 1 Axes>"
            ]
          },
          "metadata": {
            "tags": [],
            "needs_background": "light"
          }
        }
      ]
    },
    {
      "cell_type": "code",
      "metadata": {
        "id": "ETVMbssviEJl",
        "outputId": "3fe8a3a4-ec04-4749-a84a-ec12ca2d8a65",
        "colab": {
          "base_uri": "https://localhost:8080/",
          "height": 34
        }
      },
      "source": [
        "max_f1_score = np.max(f1_scores)\n",
        "best_threshold = thresholds[f1_scores.index(max_f1_score)]\n",
        "print('best threshold = {}'.format(best_threshold))"
      ],
      "execution_count": null,
      "outputs": [
        {
          "output_type": "stream",
          "text": [
            "best threshold = 0.09994486719369888\n"
          ],
          "name": "stdout"
        }
      ]
    },
    {
      "cell_type": "code",
      "metadata": {
        "id": "zEEVq9qOSwOj"
      },
      "source": [
        "anomaly_indicator = (anomaly_scores>best_threshold).astype(np.int32)"
      ],
      "execution_count": null,
      "outputs": []
    },
    {
      "cell_type": "code",
      "metadata": {
        "id": "JkaYdiKKjI6v",
        "outputId": "ab8e5ade-674c-4b2f-8f10-8dc7c861f9aa",
        "colab": {
          "base_uri": "https://localhost:8080/",
          "height": 51
        }
      },
      "source": [
        "confusion_matrix(test_labels, anomaly_indicator)"
      ],
      "execution_count": null,
      "outputs": [
        {
          "output_type": "execute_result",
          "data": {
            "text/plain": [
              "array([[3870,   11],\n",
              "       [  18,  224]])"
            ]
          },
          "metadata": {
            "tags": []
          },
          "execution_count": 81
        }
      ]
    },
    {
      "cell_type": "code",
      "metadata": {
        "id": "OyScrZsGM5dk",
        "colab": {
          "base_uri": "https://localhost:8080/",
          "height": 606
        },
        "outputId": "487262ba-fd35-48b0-f69a-8b915b497a31"
      },
      "source": [
        "plt.figure(figsize=(20,10))\n",
        "sns.scatterplot(x=np.arange(0, len(anomaly_scores)), y= anomaly_scores, hue=['normal' if i==0 else 'anomaly' for i in anomaly_indicator],\n",
        "                palette=['blue', 'red'], legend='full')\n",
        "plt.axhline(y = best_threshold, linestyle='--', label='threshold')\n",
        "plt.xlabel('samples')\n",
        "plt.ylabel('anomaly score')\n",
        "plt.legend()\n",
        "plt.grid()\n",
        "plt.show()"
      ],
      "execution_count": null,
      "outputs": [
        {
          "output_type": "display_data",
          "data": {
            "image/png": "[encoded data removed]",
            "text/plain": [
              "<Figure size 1440x720 with 1 Axes>"
            ]
          },
          "metadata": {
            "tags": [],
            "needs_background": "light"
          }
        }
      ]
    },
    {
      "cell_type": "markdown",
      "metadata": {
        "id": "b21OV44iW-tv"
      },
      "source": [
        "### Performance metrics"
      ]
    },
    {
      "cell_type": "code",
      "metadata": {
        "id": "i-6JKdhCXCc9"
      },
      "source": [
        "precision = precision_score(test_labels, anomaly_indicator)\n",
        "recall = recall_score(test_labels, anomaly_indicator)\n",
        "f1_sc = f1_score(test_labels, anomaly_indicator)\n",
        "accuracy_sc = accuracy_score(test_labels, anomaly_indicator)"
      ],
      "execution_count": null,
      "outputs": []
    },
    {
      "cell_type": "code",
      "metadata": {
        "id": "Q97--9dXXg4A",
        "colab": {
          "base_uri": "https://localhost:8080/",
          "height": 102
        },
        "outputId": "bf1e77ed-3b64-4698-b28d-16f318b1ab10"
      },
      "source": [
        "print('Model has the following classification metrics:\\n precision = {}\\n recall = {}\\n f1_score = {}\\n accuracy_score = {}'\n",
        "      .format(precision, recall, f1_sc, accuracy_sc))"
      ],
      "execution_count": null,
      "outputs": [
        {
          "output_type": "stream",
          "text": [
            "Model has the following classification metrics:\n",
            " precision = 0.9531914893617022\n",
            " recall = 0.9256198347107438\n",
            " f1_score = 0.9392033542976939\n",
            " accuracy_score = 0.9929662866844531\n"
          ],
          "name": "stdout"
        }
      ]
    },
    {
      "cell_type": "markdown",
      "metadata": {
        "id": "kviAch2fA2dS"
      },
      "source": [
        "## Inference on Production Dataset"
      ]
    },
    {
      "cell_type": "code",
      "metadata": {
        "id": "K9502ybjb0gG"
      },
      "source": [
        "prod_df = pd.read_csv(PROD_DATA_PATH, header=None, names=col_names_cleaned)"
      ],
      "execution_count": null,
      "outputs": []
    },
    {
      "cell_type": "code",
      "metadata": {
        "id": "4TDXKvdRBufo",
        "colab": {
          "base_uri": "https://localhost:8080/",
          "height": 224
        },
        "outputId": "7adf2acd-37f0-4b69-949d-96514f7e3405"
      },
      "source": [
        "# slicing only the rows belonging to http service\n",
        "prod_df_http = prod_df[prod_df['service']=='http']\n",
        "prod_df_http.head()"
      ],
      "execution_count": null,
      "outputs": [
        {
          "output_type": "execute_result",
          "data": {
            "text/html": [
              "<div>\n",
              "<style scoped>\n",
              "    .dataframe tbody tr th:only-of-type {\n",
              "        vertical-align: middle;\n",
              "    }\n",
              "\n",
              "    .dataframe tbody tr th {\n",
              "        vertical-align: top;\n",
              "    }\n",
              "\n",
              "    .dataframe thead th {\n",
              "        text-align: right;\n",
              "    }\n",
              "</style>\n",
              "<table border=\"1\" class=\"dataframe\">\n",
              "  <thead>\n",
              "    <tr style=\"text-align: right;\">\n",
              "      <th></th>\n",
              "      <th>duration</th>\n",
              "      <th>protocol_type</th>\n",
              "      <th>service</th>\n",
              "      <th>flag</th>\n",
              "      <th>src_bytes</th>\n",
              "      <th>dst_bytes</th>\n",
              "      <th>land</th>\n",
              "      <th>wrong_fragment</th>\n",
              "      <th>urgent</th>\n",
              "      <th>hot</th>\n",
              "      <th>num_failed_logins</th>\n",
              "      <th>logged_in</th>\n",
              "      <th>num_compromised</th>\n",
              "      <th>root_shell</th>\n",
              "      <th>su_attempted</th>\n",
              "      <th>num_root</th>\n",
              "      <th>num_file_creations</th>\n",
              "      <th>num_shells</th>\n",
              "      <th>num_access_files</th>\n",
              "      <th>num_outbound_cmds</th>\n",
              "      <th>is_host_login</th>\n",
              "      <th>is_guest_login</th>\n",
              "      <th>count</th>\n",
              "      <th>srv_count</th>\n",
              "      <th>serror_rate</th>\n",
              "      <th>srv_serror_rate</th>\n",
              "      <th>rerror_rate</th>\n",
              "      <th>srv_rerror_rate</th>\n",
              "      <th>same_srv_rate</th>\n",
              "      <th>diff_srv_rate</th>\n",
              "      <th>srv_diff_host_rate</th>\n",
              "      <th>dst_host_count</th>\n",
              "      <th>dst_host_srv_count</th>\n",
              "      <th>dst_host_same_srv_rate</th>\n",
              "      <th>dst_host_diff_srv_rate</th>\n",
              "      <th>dst_host_same_src_port_rate</th>\n",
              "      <th>dst_host_srv_diff_host_rate</th>\n",
              "      <th>dst_host_serror_rate</th>\n",
              "      <th>dst_host_srv_serror_rate</th>\n",
              "      <th>dst_host_rerror_rate</th>\n",
              "      <th>dst_host_srv_rerror_rate</th>\n",
              "      <th>result</th>\n",
              "    </tr>\n",
              "  </thead>\n",
              "  <tbody>\n",
              "    <tr>\n",
              "      <th>8</th>\n",
              "      <td>0</td>\n",
              "      <td>tcp</td>\n",
              "      <td>http</td>\n",
              "      <td>SF</td>\n",
              "      <td>284</td>\n",
              "      <td>765</td>\n",
              "      <td>0</td>\n",
              "      <td>0</td>\n",
              "      <td>0</td>\n",
              "      <td>0</td>\n",
              "      <td>0</td>\n",
              "      <td>1</td>\n",
              "      <td>0</td>\n",
              "      <td>0</td>\n",
              "      <td>0</td>\n",
              "      <td>0</td>\n",
              "      <td>0</td>\n",
              "      <td>0</td>\n",
              "      <td>0</td>\n",
              "      <td>0</td>\n",
              "      <td>0</td>\n",
              "      <td>0</td>\n",
              "      <td>4</td>\n",
              "      <td>4</td>\n",
              "      <td>0.0</td>\n",
              "      <td>0.0</td>\n",
              "      <td>0.0</td>\n",
              "      <td>0.0</td>\n",
              "      <td>1.0</td>\n",
              "      <td>0.0</td>\n",
              "      <td>0.0</td>\n",
              "      <td>76</td>\n",
              "      <td>251</td>\n",
              "      <td>1.0</td>\n",
              "      <td>0.0</td>\n",
              "      <td>0.01</td>\n",
              "      <td>0.05</td>\n",
              "      <td>0.0</td>\n",
              "      <td>0.0</td>\n",
              "      <td>0.0</td>\n",
              "      <td>0.0</td>\n",
              "      <td>NaN</td>\n",
              "    </tr>\n",
              "    <tr>\n",
              "      <th>9</th>\n",
              "      <td>0</td>\n",
              "      <td>tcp</td>\n",
              "      <td>http</td>\n",
              "      <td>SF</td>\n",
              "      <td>304</td>\n",
              "      <td>3634</td>\n",
              "      <td>0</td>\n",
              "      <td>0</td>\n",
              "      <td>0</td>\n",
              "      <td>0</td>\n",
              "      <td>0</td>\n",
              "      <td>1</td>\n",
              "      <td>0</td>\n",
              "      <td>0</td>\n",
              "      <td>0</td>\n",
              "      <td>0</td>\n",
              "      <td>0</td>\n",
              "      <td>0</td>\n",
              "      <td>0</td>\n",
              "      <td>0</td>\n",
              "      <td>0</td>\n",
              "      <td>0</td>\n",
              "      <td>14</td>\n",
              "      <td>14</td>\n",
              "      <td>0.0</td>\n",
              "      <td>0.0</td>\n",
              "      <td>0.0</td>\n",
              "      <td>0.0</td>\n",
              "      <td>1.0</td>\n",
              "      <td>0.0</td>\n",
              "      <td>0.0</td>\n",
              "      <td>86</td>\n",
              "      <td>251</td>\n",
              "      <td>1.0</td>\n",
              "      <td>0.0</td>\n",
              "      <td>0.01</td>\n",
              "      <td>0.05</td>\n",
              "      <td>0.0</td>\n",
              "      <td>0.0</td>\n",
              "      <td>0.0</td>\n",
              "      <td>0.0</td>\n",
              "      <td>NaN</td>\n",
              "    </tr>\n",
              "    <tr>\n",
              "      <th>10</th>\n",
              "      <td>0</td>\n",
              "      <td>tcp</td>\n",
              "      <td>http</td>\n",
              "      <td>SF</td>\n",
              "      <td>286</td>\n",
              "      <td>659</td>\n",
              "      <td>0</td>\n",
              "      <td>0</td>\n",
              "      <td>0</td>\n",
              "      <td>0</td>\n",
              "      <td>0</td>\n",
              "      <td>1</td>\n",
              "      <td>0</td>\n",
              "      <td>0</td>\n",
              "      <td>0</td>\n",
              "      <td>0</td>\n",
              "      <td>0</td>\n",
              "      <td>0</td>\n",
              "      <td>0</td>\n",
              "      <td>0</td>\n",
              "      <td>0</td>\n",
              "      <td>0</td>\n",
              "      <td>24</td>\n",
              "      <td>24</td>\n",
              "      <td>0.0</td>\n",
              "      <td>0.0</td>\n",
              "      <td>0.0</td>\n",
              "      <td>0.0</td>\n",
              "      <td>1.0</td>\n",
              "      <td>0.0</td>\n",
              "      <td>0.0</td>\n",
              "      <td>96</td>\n",
              "      <td>251</td>\n",
              "      <td>1.0</td>\n",
              "      <td>0.0</td>\n",
              "      <td>0.01</td>\n",
              "      <td>0.05</td>\n",
              "      <td>0.0</td>\n",
              "      <td>0.0</td>\n",
              "      <td>0.0</td>\n",
              "      <td>0.0</td>\n",
              "      <td>NaN</td>\n",
              "    </tr>\n",
              "    <tr>\n",
              "      <th>11</th>\n",
              "      <td>0</td>\n",
              "      <td>tcp</td>\n",
              "      <td>http</td>\n",
              "      <td>SF</td>\n",
              "      <td>298</td>\n",
              "      <td>5320</td>\n",
              "      <td>0</td>\n",
              "      <td>0</td>\n",
              "      <td>0</td>\n",
              "      <td>0</td>\n",
              "      <td>0</td>\n",
              "      <td>1</td>\n",
              "      <td>0</td>\n",
              "      <td>0</td>\n",
              "      <td>0</td>\n",
              "      <td>0</td>\n",
              "      <td>0</td>\n",
              "      <td>0</td>\n",
              "      <td>0</td>\n",
              "      <td>0</td>\n",
              "      <td>0</td>\n",
              "      <td>0</td>\n",
              "      <td>34</td>\n",
              "      <td>34</td>\n",
              "      <td>0.0</td>\n",
              "      <td>0.0</td>\n",
              "      <td>0.0</td>\n",
              "      <td>0.0</td>\n",
              "      <td>1.0</td>\n",
              "      <td>0.0</td>\n",
              "      <td>0.0</td>\n",
              "      <td>106</td>\n",
              "      <td>251</td>\n",
              "      <td>1.0</td>\n",
              "      <td>0.0</td>\n",
              "      <td>0.01</td>\n",
              "      <td>0.05</td>\n",
              "      <td>0.0</td>\n",
              "      <td>0.0</td>\n",
              "      <td>0.0</td>\n",
              "      <td>0.0</td>\n",
              "      <td>NaN</td>\n",
              "    </tr>\n",
              "    <tr>\n",
              "      <th>13</th>\n",
              "      <td>0</td>\n",
              "      <td>tcp</td>\n",
              "      <td>http</td>\n",
              "      <td>SF</td>\n",
              "      <td>290</td>\n",
              "      <td>365</td>\n",
              "      <td>0</td>\n",
              "      <td>0</td>\n",
              "      <td>0</td>\n",
              "      <td>0</td>\n",
              "      <td>0</td>\n",
              "      <td>1</td>\n",
              "      <td>0</td>\n",
              "      <td>0</td>\n",
              "      <td>0</td>\n",
              "      <td>0</td>\n",
              "      <td>0</td>\n",
              "      <td>0</td>\n",
              "      <td>0</td>\n",
              "      <td>0</td>\n",
              "      <td>0</td>\n",
              "      <td>0</td>\n",
              "      <td>9</td>\n",
              "      <td>9</td>\n",
              "      <td>0.0</td>\n",
              "      <td>0.0</td>\n",
              "      <td>0.0</td>\n",
              "      <td>0.0</td>\n",
              "      <td>1.0</td>\n",
              "      <td>0.0</td>\n",
              "      <td>0.0</td>\n",
              "      <td>117</td>\n",
              "      <td>251</td>\n",
              "      <td>1.0</td>\n",
              "      <td>0.0</td>\n",
              "      <td>0.01</td>\n",
              "      <td>0.04</td>\n",
              "      <td>0.0</td>\n",
              "      <td>0.0</td>\n",
              "      <td>0.0</td>\n",
              "      <td>0.0</td>\n",
              "      <td>NaN</td>\n",
              "    </tr>\n",
              "  </tbody>\n",
              "</table>\n",
              "</div>"
            ],
            "text/plain": [
              "    duration protocol_type  ... dst_host_srv_rerror_rate result\n",
              "8          0           tcp  ...                      0.0    NaN\n",
              "9          0           tcp  ...                      0.0    NaN\n",
              "10         0           tcp  ...                      0.0    NaN\n",
              "11         0           tcp  ...                      0.0    NaN\n",
              "13         0           tcp  ...                      0.0    NaN\n",
              "\n",
              "[5 rows x 42 columns]"
            ]
          },
          "metadata": {
            "tags": []
          },
          "execution_count": 86
        }
      ]
    },
    {
      "cell_type": "code",
      "metadata": {
        "id": "Xx3Hb6T6DsCf",
        "colab": {
          "base_uri": "https://localhost:8080/",
          "height": 34
        },
        "outputId": "d53dc60d-16d5-4d8e-e445-21632a09a761"
      },
      "source": [
        "prod_df_http.shape"
      ],
      "execution_count": null,
      "outputs": [
        {
          "output_type": "execute_result",
          "data": {
            "text/plain": [
              "(41192, 42)"
            ]
          },
          "metadata": {
            "tags": []
          },
          "execution_count": 87
        }
      ]
    },
    {
      "cell_type": "code",
      "metadata": {
        "id": "I3ek3GyXDzUs",
        "colab": {
          "base_uri": "https://localhost:8080/",
          "height": 102
        },
        "outputId": "edc1bbc2-a066-411e-a2a7-18f0a091dae0"
      },
      "source": [
        "# dropping catrgorical columns\n",
        "prod_df_http.drop(['protocol_type', 'service', 'flag', 'land', 'logged_in', 'is_host_login', 'is_guest_login', 'result'], axis=1, inplace=True)\n",
        "# dropping columns with no std deviation\n",
        "prod_df_http.drop(['wrong_fragment', 'urgent', 'num_failed_logins', 'su_attempted', 'num_file_creations', 'num_outbound_cmds'], axis=1, inplace=True)"
      ],
      "execution_count": null,
      "outputs": [
        {
          "output_type": "stream",
          "text": [
            "/usr/local/lib/python3.6/dist-packages/pandas/core/frame.py:3997: SettingWithCopyWarning: \n",
            "A value is trying to be set on a copy of a slice from a DataFrame\n",
            "\n",
            "See the caveats in the documentation: https://pandas.pydata.org/pandas-docs/stable/user_guide/indexing.html#returning-a-view-versus-a-copy\n",
            "  errors=errors,\n"
          ],
          "name": "stderr"
        }
      ]
    },
    {
      "cell_type": "code",
      "metadata": {
        "id": "B01rRb_CEAsQ"
      },
      "source": [
        "prod_df_http = pd.DataFrame(scaler.transform(prod_df_http), columns=prod_df_http.columns)"
      ],
      "execution_count": null,
      "outputs": []
    },
    {
      "cell_type": "code",
      "metadata": {
        "id": "gdGlRgt0EIID",
        "colab": {
          "base_uri": "https://localhost:8080/",
          "height": 204
        },
        "outputId": "e24bc10e-2c10-4ea4-c411-5229582c2c79"
      },
      "source": [
        "prod_df_http_pca = pd.DataFrame(pca.transform(prod_df_http), columns=pca_cols)\n",
        "prod_df_http_pca.head()"
      ],
      "execution_count": null,
      "outputs": [
        {
          "output_type": "execute_result",
          "data": {
            "text/html": [
              "<div>\n",
              "<style scoped>\n",
              "    .dataframe tbody tr th:only-of-type {\n",
              "        vertical-align: middle;\n",
              "    }\n",
              "\n",
              "    .dataframe tbody tr th {\n",
              "        vertical-align: top;\n",
              "    }\n",
              "\n",
              "    .dataframe thead th {\n",
              "        text-align: right;\n",
              "    }\n",
              "</style>\n",
              "<table border=\"1\" class=\"dataframe\">\n",
              "  <thead>\n",
              "    <tr style=\"text-align: right;\">\n",
              "      <th></th>\n",
              "      <th>PCA_0</th>\n",
              "      <th>PCA_1</th>\n",
              "      <th>PCA_2</th>\n",
              "      <th>PCA_3</th>\n",
              "      <th>PCA_4</th>\n",
              "      <th>PCA_5</th>\n",
              "      <th>PCA_6</th>\n",
              "      <th>PCA_7</th>\n",
              "      <th>PCA_8</th>\n",
              "      <th>PCA_9</th>\n",
              "      <th>PCA_10</th>\n",
              "      <th>PCA_11</th>\n",
              "      <th>PCA_12</th>\n",
              "      <th>PCA_13</th>\n",
              "    </tr>\n",
              "  </thead>\n",
              "  <tbody>\n",
              "    <tr>\n",
              "      <th>0</th>\n",
              "      <td>0.297360</td>\n",
              "      <td>-0.032057</td>\n",
              "      <td>-0.121376</td>\n",
              "      <td>-0.526900</td>\n",
              "      <td>0.739751</td>\n",
              "      <td>-0.209450</td>\n",
              "      <td>-0.043693</td>\n",
              "      <td>-0.067645</td>\n",
              "      <td>0.003968</td>\n",
              "      <td>-0.000832</td>\n",
              "      <td>-0.075895</td>\n",
              "      <td>0.074969</td>\n",
              "      <td>0.287922</td>\n",
              "      <td>-0.681393</td>\n",
              "    </tr>\n",
              "    <tr>\n",
              "      <th>1</th>\n",
              "      <td>0.710282</td>\n",
              "      <td>-0.230791</td>\n",
              "      <td>-0.290100</td>\n",
              "      <td>0.195176</td>\n",
              "      <td>-0.048202</td>\n",
              "      <td>-0.015575</td>\n",
              "      <td>0.403405</td>\n",
              "      <td>0.035467</td>\n",
              "      <td>0.020562</td>\n",
              "      <td>0.001170</td>\n",
              "      <td>-0.024612</td>\n",
              "      <td>0.163951</td>\n",
              "      <td>0.068895</td>\n",
              "      <td>-0.299118</td>\n",
              "    </tr>\n",
              "    <tr>\n",
              "      <th>2</th>\n",
              "      <td>1.039008</td>\n",
              "      <td>-0.440383</td>\n",
              "      <td>-0.462668</td>\n",
              "      <td>0.956009</td>\n",
              "      <td>-0.890064</td>\n",
              "      <td>0.170545</td>\n",
              "      <td>0.816749</td>\n",
              "      <td>-0.016169</td>\n",
              "      <td>0.035937</td>\n",
              "      <td>0.003345</td>\n",
              "      <td>0.016734</td>\n",
              "      <td>0.103992</td>\n",
              "      <td>-0.132922</td>\n",
              "      <td>0.008159</td>\n",
              "    </tr>\n",
              "    <tr>\n",
              "      <th>3</th>\n",
              "      <td>1.436586</td>\n",
              "      <td>-0.636894</td>\n",
              "      <td>-0.632507</td>\n",
              "      <td>1.679161</td>\n",
              "      <td>-1.677273</td>\n",
              "      <td>0.367741</td>\n",
              "      <td>1.256743</td>\n",
              "      <td>0.141375</td>\n",
              "      <td>0.052662</td>\n",
              "      <td>0.005434</td>\n",
              "      <td>0.069331</td>\n",
              "      <td>0.243556</td>\n",
              "      <td>-0.353076</td>\n",
              "      <td>0.411528</td>\n",
              "    </tr>\n",
              "    <tr>\n",
              "      <th>4</th>\n",
              "      <td>0.632666</td>\n",
              "      <td>-0.155772</td>\n",
              "      <td>-0.143185</td>\n",
              "      <td>-0.132561</td>\n",
              "      <td>0.239163</td>\n",
              "      <td>-0.091299</td>\n",
              "      <td>-0.005238</td>\n",
              "      <td>-0.070818</td>\n",
              "      <td>0.006328</td>\n",
              "      <td>-0.001903</td>\n",
              "      <td>-0.056586</td>\n",
              "      <td>0.057895</td>\n",
              "      <td>0.224589</td>\n",
              "      <td>-0.517693</td>\n",
              "    </tr>\n",
              "  </tbody>\n",
              "</table>\n",
              "</div>"
            ],
            "text/plain": [
              "      PCA_0     PCA_1     PCA_2  ...    PCA_11    PCA_12    PCA_13\n",
              "0  0.297360 -0.032057 -0.121376  ...  0.074969  0.287922 -0.681393\n",
              "1  0.710282 -0.230791 -0.290100  ...  0.163951  0.068895 -0.299118\n",
              "2  1.039008 -0.440383 -0.462668  ...  0.103992 -0.132922  0.008159\n",
              "3  1.436586 -0.636894 -0.632507  ...  0.243556 -0.353076  0.411528\n",
              "4  0.632666 -0.155772 -0.143185  ...  0.057895  0.224589 -0.517693\n",
              "\n",
              "[5 rows x 14 columns]"
            ]
          },
          "metadata": {
            "tags": []
          },
          "execution_count": 90
        }
      ]
    },
    {
      "cell_type": "code",
      "metadata": {
        "id": "8O3l4izTEOWO",
        "colab": {
          "base_uri": "https://localhost:8080/",
          "height": 34
        },
        "outputId": "08486c3a-eba8-4df3-9451-1d262204a92c"
      },
      "source": [
        "prod_windows = get_windows(prod_df_http_pca, window_size=10, stride=10)"
      ],
      "execution_count": null,
      "outputs": [
        {
          "output_type": "stream",
          "text": [
            "100%|██████████| 4119/4119 [00:00<00:00, 7066.39it/s]\n"
          ],
          "name": "stderr"
        }
      ]
    },
    {
      "cell_type": "code",
      "metadata": {
        "id": "_ofhmM_TEU6z"
      },
      "source": [
        "prod_windows_pred = autoencoder_loaded.predict(prod_windows)"
      ],
      "execution_count": null,
      "outputs": []
    },
    {
      "cell_type": "code",
      "metadata": {
        "id": "COxpx3o5EbWY"
      },
      "source": [
        "prod_recon_errors = get_recon_erros(prod_windows, prod_windows_pred)\n",
        "prod_recon_errors = np.array(prod_recon_errors).reshape(-1, 1)"
      ],
      "execution_count": null,
      "outputs": []
    },
    {
      "cell_type": "code",
      "metadata": {
        "id": "278uuTwdEnwe"
      },
      "source": [
        "mm_scaler_prod = MinMaxScaler()\n",
        "prod_anomaly_scores = mm_scaler_prod.fit_transform(prod_recon_errors).flatten()"
      ],
      "execution_count": null,
      "outputs": []
    },
    {
      "cell_type": "code",
      "metadata": {
        "id": "ytwJSaCzEuel"
      },
      "source": [
        "prod_anomaly_indicator = (prod_anomaly_scores>best_threshold).astype(np.int32)"
      ],
      "execution_count": null,
      "outputs": []
    },
    {
      "cell_type": "code",
      "metadata": {
        "id": "DD2x3g6BFzpW",
        "colab": {
          "base_uri": "https://localhost:8080/",
          "height": 621
        },
        "outputId": "bc719296-ab2f-4b05-895b-234ad5da453b"
      },
      "source": [
        "plt.figure(figsize=(20,10))\n",
        "sns.scatterplot(x=np.arange(0, len(prod_anomaly_scores)), y= prod_anomaly_scores, hue=['normal' if i==0 else 'anomaly' for i in prod_anomaly_indicator],\n",
        "                palette=['blue', 'red'], legend='full')\n",
        "plt.axhline(y = best_threshold, linestyle='--', label='threshold')\n",
        "plt.title('Anomaly identification in a production dataset')\n",
        "plt.xlabel('samples')\n",
        "plt.ylabel('anomaly score')\n",
        "plt.legend()\n",
        "plt.grid()\n",
        "plt.show()"
      ],
      "execution_count": null,
      "outputs": [
        {
          "output_type": "display_data",
          "data": {
            "image/png": "[encoded data removed]",
            "text/plain": [
              "<Figure size 1440x720 with 1 Axes>"
            ]
          },
          "metadata": {
            "tags": [],
            "needs_background": "light"
          }
        }
      ]
    },
    {
      "cell_type": "code",
      "metadata": {
        "id": "tce5YIDRGH0v"
      },
      "source": [],
      "execution_count": null,
      "outputs": []
    }
  ]
}